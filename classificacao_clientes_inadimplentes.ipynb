{
 "cells": [
  {
   "cell_type": "code",
   "execution_count": 130,
   "metadata": {},
   "outputs": [],
   "source": [
    "import pandas as pd\n",
    "import numpy as np"
   ]
  },
  {
   "cell_type": "code",
   "execution_count": 131,
   "metadata": {},
   "outputs": [
    {
     "name": "stderr",
     "output_type": "stream",
     "text": [
      "<>:1: SyntaxWarning: invalid escape sequence '\\d'\n",
      "<>:1: SyntaxWarning: invalid escape sequence '\\d'\n",
      "C:\\Users\\caiof\\AppData\\Local\\Temp\\ipykernel_4744\\1124507117.py:1: SyntaxWarning: invalid escape sequence '\\d'\n",
      "  dados = pd.read_csv('C:\\\\Users\\\\caiof\\\\OneDrive\\\\Área de Trabalho\\dados\\\\emp_automovel.csv')\n"
     ]
    }
   ],
   "source": [
    "dados = pd.read_csv('C:\\\\Users\\\\caiof\\\\OneDrive\\\\Área de Trabalho\\dados\\\\emp_automovel.csv')"
   ]
  },
  {
   "cell_type": "code",
   "execution_count": 132,
   "metadata": {},
   "outputs": [
    {
     "data": {
      "text/html": [
       "<div>\n",
       "<style scoped>\n",
       "    .dataframe tbody tr th:only-of-type {\n",
       "        vertical-align: middle;\n",
       "    }\n",
       "\n",
       "    .dataframe tbody tr th {\n",
       "        vertical-align: top;\n",
       "    }\n",
       "\n",
       "    .dataframe thead th {\n",
       "        text-align: right;\n",
       "    }\n",
       "</style>\n",
       "<table border=\"1\" class=\"dataframe\">\n",
       "  <thead>\n",
       "    <tr style=\"text-align: right;\">\n",
       "      <th></th>\n",
       "      <th>receita_cliente</th>\n",
       "      <th>anuidade_emprestimo</th>\n",
       "      <th>anos_casa_propria</th>\n",
       "      <th>telefone_trab</th>\n",
       "      <th>avaliacao_cidade</th>\n",
       "      <th>score_1</th>\n",
       "      <th>score_2</th>\n",
       "      <th>score_3</th>\n",
       "      <th>score_social</th>\n",
       "      <th>troca_telefone</th>\n",
       "      <th>inadimplente</th>\n",
       "    </tr>\n",
       "  </thead>\n",
       "  <tbody>\n",
       "    <tr>\n",
       "      <th>0</th>\n",
       "      <td>12600.0</td>\n",
       "      <td>3569.400000</td>\n",
       "      <td>12.157324</td>\n",
       "      <td>1</td>\n",
       "      <td>2.0</td>\n",
       "      <td>0.057153</td>\n",
       "      <td>0.527227</td>\n",
       "      <td>0.513171</td>\n",
       "      <td>0.117428</td>\n",
       "      <td>2545.0</td>\n",
       "      <td>0</td>\n",
       "    </tr>\n",
       "    <tr>\n",
       "      <th>1</th>\n",
       "      <td>9000.0</td>\n",
       "      <td>2722.188351</td>\n",
       "      <td>7.000000</td>\n",
       "      <td>0</td>\n",
       "      <td>2.0</td>\n",
       "      <td>0.657661</td>\n",
       "      <td>0.285898</td>\n",
       "      <td>0.614414</td>\n",
       "      <td>0.222700</td>\n",
       "      <td>495.0</td>\n",
       "      <td>0</td>\n",
       "    </tr>\n",
       "    <tr>\n",
       "      <th>2</th>\n",
       "      <td>15750.0</td>\n",
       "      <td>4477.500000</td>\n",
       "      <td>12.000000</td>\n",
       "      <td>0</td>\n",
       "      <td>2.0</td>\n",
       "      <td>0.501213</td>\n",
       "      <td>0.695423</td>\n",
       "      <td>0.513171</td>\n",
       "      <td>0.117428</td>\n",
       "      <td>1212.0</td>\n",
       "      <td>0</td>\n",
       "    </tr>\n",
       "    <tr>\n",
       "      <th>3</th>\n",
       "      <td>9000.0</td>\n",
       "      <td>1309.050000</td>\n",
       "      <td>12.157324</td>\n",
       "      <td>0</td>\n",
       "      <td>3.0</td>\n",
       "      <td>0.501213</td>\n",
       "      <td>0.155973</td>\n",
       "      <td>0.513171</td>\n",
       "      <td>0.117428</td>\n",
       "      <td>515.0</td>\n",
       "      <td>0</td>\n",
       "    </tr>\n",
       "    <tr>\n",
       "      <th>4</th>\n",
       "      <td>7650.0</td>\n",
       "      <td>1125.000000</td>\n",
       "      <td>12.157324</td>\n",
       "      <td>0</td>\n",
       "      <td>2.0</td>\n",
       "      <td>0.294328</td>\n",
       "      <td>0.152076</td>\n",
       "      <td>0.513171</td>\n",
       "      <td>0.117428</td>\n",
       "      <td>162.0</td>\n",
       "      <td>0</td>\n",
       "    </tr>\n",
       "  </tbody>\n",
       "</table>\n",
       "</div>"
      ],
      "text/plain": [
       "   receita_cliente  anuidade_emprestimo  anos_casa_propria  telefone_trab  \\\n",
       "0          12600.0          3569.400000          12.157324              1   \n",
       "1           9000.0          2722.188351           7.000000              0   \n",
       "2          15750.0          4477.500000          12.000000              0   \n",
       "3           9000.0          1309.050000          12.157324              0   \n",
       "4           7650.0          1125.000000          12.157324              0   \n",
       "\n",
       "   avaliacao_cidade   score_1   score_2   score_3  score_social  \\\n",
       "0               2.0  0.057153  0.527227  0.513171      0.117428   \n",
       "1               2.0  0.657661  0.285898  0.614414      0.222700   \n",
       "2               2.0  0.501213  0.695423  0.513171      0.117428   \n",
       "3               3.0  0.501213  0.155973  0.513171      0.117428   \n",
       "4               2.0  0.294328  0.152076  0.513171      0.117428   \n",
       "\n",
       "   troca_telefone  inadimplente  \n",
       "0          2545.0             0  \n",
       "1           495.0             0  \n",
       "2          1212.0             0  \n",
       "3           515.0             0  \n",
       "4           162.0             0  "
      ]
     },
     "execution_count": 132,
     "metadata": {},
     "output_type": "execute_result"
    }
   ],
   "source": [
    "dados.head()"
   ]
  },
  {
   "cell_type": "code",
   "execution_count": 133,
   "metadata": {},
   "outputs": [],
   "source": [
    "x = dados.drop('inadimplente', axis = 1)\n",
    "y = dados['inadimplente']"
   ]
  },
  {
   "cell_type": "code",
   "execution_count": 134,
   "metadata": {},
   "outputs": [],
   "source": [
    "#Arvore de decisão\n"
   ]
  },
  {
   "cell_type": "code",
   "execution_count": 135,
   "metadata": {},
   "outputs": [],
   "source": [
    "from sklearn.tree import DecisionTreeClassifier"
   ]
  },
  {
   "cell_type": "code",
   "execution_count": 136,
   "metadata": {},
   "outputs": [
    {
     "data": {
      "text/plain": [
       "1.0"
      ]
     },
     "execution_count": 136,
     "metadata": {},
     "output_type": "execute_result"
    }
   ],
   "source": [
    "modelo = DecisionTreeClassifier()\n",
    "modelo.fit(x, y)\n",
    "modelo.score(x, y)"
   ]
  },
  {
   "cell_type": "code",
   "execution_count": 137,
   "metadata": {},
   "outputs": [],
   "source": [
    "from sklearn.model_selection import train_test_split"
   ]
  },
  {
   "cell_type": "code",
   "execution_count": 138,
   "metadata": {},
   "outputs": [],
   "source": [
    "x, x_teste, y, y_teste = train_test_split(x, y, test_size = 0.15, stratify =y, random_state = 5)\n",
    "x_treino, x_val, y_treino, y_val = train_test_split(x, y, stratify = y, random_state = 5)"
   ]
  },
  {
   "cell_type": "code",
   "execution_count": 139,
   "metadata": {},
   "outputs": [
    {
     "name": "stdout",
     "output_type": "stream",
     "text": [
      " Acurácia de treino: 1.0\n",
      " Acurácia de validação: 0.846441947565543\n"
     ]
    }
   ],
   "source": [
    "modelo = DecisionTreeClassifier()\n",
    "modelo.fit(x_treino, y_treino)\n",
    "print(f' Acurácia de treino: {modelo.score(x_treino, y_treino)}')\n",
    "print(f' Acurácia de validação: {modelo.score(x_val, y_val)}')"
   ]
  },
  {
   "cell_type": "code",
   "execution_count": 140,
   "metadata": {},
   "outputs": [
    {
     "name": "stdout",
     "output_type": "stream",
     "text": [
      " Acurácia de treino: 0.9205865272938444\n",
      " Acurácia de validação: 0.9061928403449176\n"
     ]
    }
   ],
   "source": [
    "modelo = DecisionTreeClassifier(max_depth = 10)\n",
    "modelo.fit(x_treino, y_treino)\n",
    "print(f' Acurácia de treino: {modelo.score(x_treino, y_treino)}')\n",
    "print(f' Acurácia de validação: {modelo.score(x_val, y_val)}')"
   ]
  },
  {
   "cell_type": "code",
   "execution_count": 141,
   "metadata": {},
   "outputs": [],
   "source": [
    "#Qual seria o max_depth ideal para cada modelo?\n",
    "#Será que consigo maximizar o max_depth para encontrar o parâmetro ideal?"
   ]
  },
  {
   "cell_type": "code",
   "execution_count": 142,
   "metadata": {},
   "outputs": [],
   "source": [
    "from sklearn.metrics import confusion_matrix"
   ]
  },
  {
   "cell_type": "code",
   "execution_count": 143,
   "metadata": {},
   "outputs": [
    {
     "name": "stdout",
     "output_type": "stream",
     "text": [
      "[[10361   118]\n",
      " [  959    43]]\n"
     ]
    }
   ],
   "source": [
    "y_previsto = modelo.predict(x_val)\n",
    "matriz_confusao = confusion_matrix(y_val, y_previsto)\n",
    "print(matriz_confusao)"
   ]
  },
  {
   "cell_type": "code",
   "execution_count": 144,
   "metadata": {},
   "outputs": [],
   "source": [
    "from sklearn.metrics import ConfusionMatrixDisplay"
   ]
  },
  {
   "cell_type": "code",
   "execution_count": 145,
   "metadata": {},
   "outputs": [
    {
     "data": {
      "image/png": "[encoded data removed]",
      "text/plain": [
       "<Figure size 640x480 with 2 Axes>"
      ]
     },
     "metadata": {},
     "output_type": "display_data"
    }
   ],
   "source": [
    "visualizacao = ConfusionMatrixDisplay(confusion_matrix = matriz_confusao)\n",
    "visualizacao.plot();"
   ]
  },
  {
   "cell_type": "code",
   "execution_count": 146,
   "metadata": {},
   "outputs": [
    {
     "data": {
      "image/png": "[encoded data removed]",
      "text/plain": [
       "<Figure size 640x480 with 2 Axes>"
      ]
     },
     "metadata": {},
     "output_type": "display_data"
    }
   ],
   "source": [
    "visualizacao = ConfusionMatrixDisplay(confusion_matrix = matriz_confusao, display_labels = ['Adimplente', 'Inadimplente'])\n",
    "visualizacao.plot();"
   ]
  },
  {
   "cell_type": "code",
   "execution_count": 147,
   "metadata": {},
   "outputs": [],
   "source": [
    "from sklearn.metrics import accuracy_score"
   ]
  },
  {
   "cell_type": "code",
   "execution_count": 148,
   "metadata": {},
   "outputs": [
    {
     "name": "stdout",
     "output_type": "stream",
     "text": [
      "Acurácia: 0.9061928403449176\n"
     ]
    }
   ],
   "source": [
    "print(f'Acurácia: {accuracy_score(y_val, y_previsto)}')"
   ]
  },
  {
   "cell_type": "code",
   "execution_count": 149,
   "metadata": {},
   "outputs": [],
   "source": [
    "#Acurácia: (VP + VN)/(VP + VN + FP + FN)\n",
    "#Precisao: VP / (VP + FP)\n",
    "#Recall: VP/ (VP + FN)\n",
    "#F1: 2 * ((precisao * recal)/(precisão + recall))\n",
    "\n",
    "#Verificando a precisão e recall\n",
    "from sklearn.metrics import precision_score, recall_score\n"
   ]
  },
  {
   "cell_type": "code",
   "execution_count": 150,
   "metadata": {},
   "outputs": [
    {
     "name": "stdout",
     "output_type": "stream",
     "text": [
      "Precisão: 0.2670807453416149\n",
      "Recall: 0.04291417165668663\n"
     ]
    }
   ],
   "source": [
    "print(f'Precisão: {precision_score(y_val, y_previsto)}')\n",
    "print(f'Recall: {recall_score(y_val, y_previsto)}')"
   ]
  },
  {
   "cell_type": "code",
   "execution_count": 151,
   "metadata": {},
   "outputs": [],
   "source": [
    "#O nosso modelo não está indo bem, a precisão e o recall está muito próximo de zero.\n",
    "\n",
    "#Qual é a métrica mais relevante para o problema???\n",
    "#O que é mais prejudicial para a empresa, tomar prejuízo ou deixar de vender para o cliente?\n",
    "#A métrica que vai avaliar se a empresa vai tomar mais prejuízo é o recall, por que ela avalia os valores reais de pessoas inadimplentes\n",
    "#e quanto maior a quantidade de falsos negativos mais clientes a empresa vai vender sendo que esses clientes são inadimplentes.\n",
    "#Na previsão, quanto melhor for a precisão, menos clientes serão perdidos, mas o mais prejudicial no caso será o recall.\n",
    "\n",
    "#Com isso, vamos utilizar o recall para verificar o desempenho do nosso modelo.\n",
    "\n",
    "#Uma métrica mais equilibrada para não perder cliente e nem tomar prejuizo seria o F1"
   ]
  },
  {
   "cell_type": "code",
   "execution_count": 152,
   "metadata": {},
   "outputs": [
    {
     "name": "stdout",
     "output_type": "stream",
     "text": [
      "F1_score: 0.07394668959587274\n"
     ]
    }
   ],
   "source": [
    "from sklearn.metrics import f1_score\n",
    "print(f'F1_score: {f1_score(y_val, y_previsto)}')\n",
    "\n",
    "#valor baixo por que as nossas métricas de precisão e recall são baixas."
   ]
  },
  {
   "cell_type": "code",
   "execution_count": 153,
   "metadata": {},
   "outputs": [],
   "source": [
    "#Curva ROC\n",
    "#é utilizado para entender se o modelo está conseguindo diferenciar uma classe da outra"
   ]
  },
  {
   "cell_type": "code",
   "execution_count": 154,
   "metadata": {},
   "outputs": [],
   "source": [
    "from sklearn.metrics import RocCurveDisplay"
   ]
  },
  {
   "cell_type": "code",
   "execution_count": 155,
   "metadata": {},
   "outputs": [
    {
     "data": {
      "text/plain": [
       "<sklearn.metrics._plot.roc_curve.RocCurveDisplay at 0x233aee94e90>"
      ]
     },
     "execution_count": 155,
     "metadata": {},
     "output_type": "execute_result"
    },
    {
     "data": {
      "image/png": "[encoded data removed]",
      "text/plain": [
       "<Figure size 640x480 with 1 Axes>"
      ]
     },
     "metadata": {},
     "output_type": "display_data"
    }
   ],
   "source": [
    "RocCurveDisplay.from_predictions(y_val, y_previsto, name = 'Árvore de Decisão);')"
   ]
  },
  {
   "cell_type": "code",
   "execution_count": 156,
   "metadata": {},
   "outputs": [],
   "source": [
    "#Quanto mais reta na diagonal pior vai ser o modelo\n",
    "#para verificar se o modelo está classificando bem ela deve ter uma curvatura\n",
    "#AUC quanto mais próximo de 1 melhor e quanto mais próximo de 0.5 pior é o modelo."
   ]
  },
  {
   "cell_type": "code",
   "execution_count": 157,
   "metadata": {},
   "outputs": [],
   "source": [
    "from sklearn.metrics import roc_auc_score"
   ]
  },
  {
   "cell_type": "code",
   "execution_count": 158,
   "metadata": {},
   "outputs": [
    {
     "name": "stdout",
     "output_type": "stream",
     "text": [
      "AUC: 0.5158267775928247\n"
     ]
    }
   ],
   "source": [
    "print(f'AUC: {roc_auc_score(y_val, y_previsto)}')"
   ]
  },
  {
   "cell_type": "code",
   "execution_count": 159,
   "metadata": {},
   "outputs": [],
   "source": [
    "#Curva ROC\n",
    "#Curva característica de operação do receptor\n",
    "#AUC  -> Área abaixo da curva \n",
    "\n",
    "# 1 - Especificidade (taxa de falsos positivos) eixo x\n",
    "# eixo y -> sensibilidade (taxa de verdadeiros positivos) (recall)"
   ]
  },
  {
   "cell_type": "code",
   "execution_count": 160,
   "metadata": {},
   "outputs": [],
   "source": [
    "\n",
    "#Taxa de falsos positivos\n",
    "\n",
    "#VN = Verdadeiros Negativos\n",
    "#FP = Falsos Positivos\n",
    "\n",
    "\n",
    " #          Não     Sim\n",
    "#Não         VN      FP\n",
    "\n",
    "#Sim         FN      VP"
   ]
  },
  {
   "cell_type": "code",
   "execution_count": 161,
   "metadata": {},
   "outputs": [],
   "source": [
    "#Taxa de falsos positivos\n",
    "\n",
    "# (FP)/(VN + FP)"
   ]
  },
  {
   "cell_type": "code",
   "execution_count": 162,
   "metadata": {},
   "outputs": [],
   "source": [
    "#Taxa de falsos positivos\n",
    "\n",
    "#VN = verdadeiros negativos\n",
    "#FP = falsos positivos\n",
    "\n",
    "#  (FP)/(VN + FP)"
   ]
  },
  {
   "cell_type": "code",
   "execution_count": 163,
   "metadata": {},
   "outputs": [],
   "source": [
    "#Taxa de verdaderos positivos\n",
    "\n",
    "#FN = Falsos Negativos\n",
    "#VP = Verdadeiros Positivos\n",
    "\n",
    "# (VP)/(FN + VP)"
   ]
  },
  {
   "cell_type": "code",
   "execution_count": 164,
   "metadata": {},
   "outputs": [],
   "source": [
    "#Curva de precisão X RECALL\n",
    "#curva mais indicada para analisar os nossos dados, pois os nossos dados estão desbalanceados olhando para a matriz de confusão."
   ]
  },
  {
   "cell_type": "code",
   "execution_count": 165,
   "metadata": {},
   "outputs": [],
   "source": [
    "from sklearn.metrics import PrecisionRecallDisplay"
   ]
  },
  {
   "cell_type": "code",
   "execution_count": 166,
   "metadata": {},
   "outputs": [
    {
     "data": {
      "text/plain": [
       "<sklearn.metrics._plot.precision_recall_curve.PrecisionRecallDisplay at 0x233afb50fb0>"
      ]
     },
     "execution_count": 166,
     "metadata": {},
     "output_type": "execute_result"
    },
    {
     "data": {
      "image/png": "[encoded data removed]",
      "text/plain": [
       "<Figure size 640x480 with 1 Axes>"
      ]
     },
     "metadata": {},
     "output_type": "display_data"
    }
   ],
   "source": [
    "PrecisionRecallDisplay.from_predictions(y_val, y_previsto, name = 'Árvore de decisão')"
   ]
  },
  {
   "cell_type": "code",
   "execution_count": 167,
   "metadata": {},
   "outputs": [],
   "source": [
    "#Quanto maior do ponto (1,1) melhor o modelo.\n",
    "#O nosso modelo não está classificando bem os dados."
   ]
  },
  {
   "cell_type": "code",
   "execution_count": 168,
   "metadata": {},
   "outputs": [],
   "source": [
    "#AP -> Precisão Média; Quanto mais próximo de zero for essa medida, pior vai ser o modelo."
   ]
  },
  {
   "cell_type": "code",
   "execution_count": 169,
   "metadata": {},
   "outputs": [],
   "source": [
    "from sklearn.metrics import average_precision_score"
   ]
  },
  {
   "cell_type": "code",
   "execution_count": 170,
   "metadata": {},
   "outputs": [
    {
     "name": "stdout",
     "output_type": "stream",
     "text": [
      "AP: 0.09499085824540142\n"
     ]
    }
   ],
   "source": [
    "print(f'AP: { average_precision_score(y_val, y_previsto)}')"
   ]
  },
  {
   "cell_type": "code",
   "execution_count": 171,
   "metadata": {},
   "outputs": [],
   "source": [
    "from sklearn.metrics import classification_report"
   ]
  },
  {
   "cell_type": "code",
   "execution_count": 172,
   "metadata": {},
   "outputs": [
    {
     "name": "stdout",
     "output_type": "stream",
     "text": [
      "              precision    recall  f1-score   support\n",
      "\n",
      "           0       0.92      0.99      0.95     10479\n",
      "           1       0.27      0.04      0.07      1002\n",
      "\n",
      "    accuracy                           0.91     11481\n",
      "   macro avg       0.59      0.52      0.51     11481\n",
      "weighted avg       0.86      0.91      0.87     11481\n",
      "\n"
     ]
    }
   ],
   "source": [
    "print(classification_report(y_val, y_previsto))"
   ]
  },
  {
   "cell_type": "code",
   "execution_count": 173,
   "metadata": {},
   "outputs": [],
   "source": [
    "  #Estratégia de Validação de dados\n",
    "\n",
    "#Por exemplo, separamos em dados treino e teste, mas pode acontecer dos dados serem muito diferentes e com isso o modelo\n",
    "#não vai conseguir classificar esses dados.\n",
    "\n",
    "#A estratégia de validação vai separar mais os dados\n",
    "\n",
    "#Dividindo os dados em 5 partes\n",
    "\n",
    "#Uma parte validação e as outras 4 em treinamento\n",
    "#Todas as partes são usadas como validação, vamos gerar 5 modelos com cada pedaço como validação.\n",
    "\n",
    "#Vamos utilizar o Kfold\n"
   ]
  },
  {
   "cell_type": "code",
   "execution_count": 174,
   "metadata": {},
   "outputs": [],
   "source": [
    "from sklearn.model_selection import cross_validate, KFold"
   ]
  },
  {
   "cell_type": "code",
   "execution_count": 175,
   "metadata": {},
   "outputs": [
    {
     "data": {
      "text/plain": [
       "{'fit_time': array([0.31002522, 0.2690208 , 0.26601815, 0.28402257, 0.25041127]),\n",
       " 'score_time': array([0.00399637, 0.00500178, 0.00400424, 0.00700092, 0.0030005 ]),\n",
       " 'test_score': array([0.91322809, 0.90733885, 0.90799216, 0.91365418, 0.89982578])}"
      ]
     },
     "execution_count": 175,
     "metadata": {},
     "output_type": "execute_result"
    }
   ],
   "source": [
    "modelo = DecisionTreeClassifier(max_depth = 10)\n",
    "kf = KFold(n_splits = 5, shuffle = True, random_state = 5)\n",
    "cv_resultados = cross_validate(modelo, x, y, cv = kf)\n",
    "cv_resultados\n"
   ]
  },
  {
   "cell_type": "code",
   "execution_count": 176,
   "metadata": {},
   "outputs": [
    {
     "name": "stdout",
     "output_type": "stream",
     "text": [
      "Intervalo de confiança: [0.8983788104963888, 0.9184368154579108]\n"
     ]
    }
   ],
   "source": [
    "media = cv_resultados['test_score'].mean()\n",
    "desvio_padrao = cv_resultados['test_score'].std()\n",
    "print(f'Intervalo de confiança: [{media - 2*desvio_padrao}, {min(media + 2*desvio_padrao,1)}]')\n",
    "#Acuracia"
   ]
  },
  {
   "cell_type": "code",
   "execution_count": 177,
   "metadata": {},
   "outputs": [],
   "source": [
    "#Validação Cruzada com o RECALL"
   ]
  },
  {
   "cell_type": "code",
   "execution_count": 178,
   "metadata": {},
   "outputs": [],
   "source": [
    "def intervalo_conf(resultados):\n",
    "    media = resultados['test_score'].mean()\n",
    "    desvio_padrao = resultados['test_score'].std()\n",
    "    print(f'Intervalo de confiança: [{media - 2*desvio_padrao}, {min(media + 2*desvio_padrao,1)}]')"
   ]
  },
  {
   "cell_type": "code",
   "execution_count": 179,
   "metadata": {},
   "outputs": [
    {
     "data": {
      "text/plain": [
       "{'fit_time': array([0.33902669, 0.24284649, 0.22101593, 0.23801899, 0.25901604]),\n",
       " 'score_time': array([0.00699997, 0.00700927, 0.00800037, 0.01200128, 0.00700474]),\n",
       " 'test_score': array([0.02642008, 0.0210396 , 0.02091021, 0.01305483, 0.02427746])}"
      ]
     },
     "execution_count": 179,
     "metadata": {},
     "output_type": "execute_result"
    }
   ],
   "source": [
    "#Métrica de desempenho\n",
    "modelo = DecisionTreeClassifier(max_depth = 10)\n",
    "kf = KFold(n_splits = 5, shuffle = True, random_state = 5)\n",
    "cv_resultados = cross_validate(modelo, x, y, cv = kf, scoring = 'recall')\n",
    "cv_resultados"
   ]
  },
  {
   "cell_type": "code",
   "execution_count": 180,
   "metadata": {},
   "outputs": [
    {
     "name": "stdout",
     "output_type": "stream",
     "text": [
      "Intervalo de confiança: [0.012056131903883655, 0.03022473979904832]\n"
     ]
    }
   ],
   "source": [
    "#intervalo de confiança\n",
    "\n",
    "intervalo_conf(cv_resultados)"
   ]
  },
  {
   "cell_type": "markdown",
   "metadata": {},
   "source": [
    "É sempre importante analisar o problema de negócio antes de avaliar um modelo de classificação, para que seja escolhida a métrica mais adequada. No nosso projeto, estamos classificando clientes inadimplentes de uma locadora de veículos e identificamos que a métrica mais relevante é o recall, que busca minimizar a quantidade de pessoas inadimplentes que são classificadas como adimplentes"
   ]
  },
  {
   "cell_type": "markdown",
   "metadata": {},
   "source": [
    "Melhorando a separação dos dados [Estratificando os dados]"
   ]
  },
  {
   "cell_type": "markdown",
   "metadata": {},
   "source": []
  },
  {
   "cell_type": "code",
   "execution_count": 181,
   "metadata": {},
   "outputs": [
    {
     "data": {
      "text/plain": [
       "inadimplente\n",
       "0    0.912707\n",
       "1    0.087293\n",
       "Name: proportion, dtype: float64"
      ]
     },
     "execution_count": 181,
     "metadata": {},
     "output_type": "execute_result"
    }
   ],
   "source": [
    "dados['inadimplente'].value_counts(normalize = True)"
   ]
  },
  {
   "cell_type": "code",
   "execution_count": 182,
   "metadata": {},
   "outputs": [],
   "source": [
    "from sklearn.model_selection import StratifiedKFold"
   ]
  },
  {
   "cell_type": "code",
   "execution_count": 183,
   "metadata": {},
   "outputs": [
    {
     "data": {
      "text/plain": [
       "{'fit_time': array([0.26201749, 0.23501801, 0.2350173 , 0.24056101, 0.23101783]),\n",
       " 'score_time': array([0.00699949, 0.00800014, 0.00700092, 0.01000452, 0.0070014 ]),\n",
       " 'test_score': array([0.03865337, 0.02746567, 0.02743142, 0.02369077, 0.02618454])}"
      ]
     },
     "execution_count": 183,
     "metadata": {},
     "output_type": "execute_result"
    }
   ],
   "source": [
    "modelo = DecisionTreeClassifier(max_depth = 10)\n",
    "skf = StratifiedKFold(n_splits = 5, shuffle = True, random_state = 5)\n",
    "cv_resultados = cross_validate(modelo, x, y, cv = skf, scoring = 'recall')\n",
    "cv_resultados"
   ]
  },
  {
   "cell_type": "code",
   "execution_count": 184,
   "metadata": {},
   "outputs": [
    {
     "name": "stdout",
     "output_type": "stream",
     "text": [
      "Intervalo de confiança: [0.01834605601932653, 0.0390242510469653]\n"
     ]
    }
   ],
   "source": [
    "intervalo_conf(cv_resultados)"
   ]
  },
  {
   "cell_type": "code",
   "execution_count": 185,
   "metadata": {},
   "outputs": [],
   "source": [
    "#Melhorando o desempenho do modelo"
   ]
  },
  {
   "cell_type": "code",
   "execution_count": 186,
   "metadata": {},
   "outputs": [],
   "source": [
    "from imblearn.over_sampling import SMOTE\n",
    "#Mais dados bem próximos do padrão que já existe. É usado para balancear os dados"
   ]
  },
  {
   "cell_type": "code",
   "execution_count": 187,
   "metadata": {},
   "outputs": [],
   "source": [
    "oversample = SMOTE()\n",
    "x_bal, y_bal = oversample.fit_resample(x, y)"
   ]
  },
  {
   "cell_type": "code",
   "execution_count": 188,
   "metadata": {},
   "outputs": [
    {
     "data": {
      "text/plain": [
       "inadimplente\n",
       "0    0.5\n",
       "1    0.5\n",
       "Name: proportion, dtype: float64"
      ]
     },
     "execution_count": 188,
     "metadata": {},
     "output_type": "execute_result"
    }
   ],
   "source": [
    "y_bal.value_counts(normalize = True)"
   ]
  },
  {
   "cell_type": "code",
   "execution_count": 189,
   "metadata": {},
   "outputs": [],
   "source": [
    "modelo = DecisionTreeClassifier(max_depth = 10)\n",
    "skf = StratifiedKFold(n_splits = 5, shuffle = True, random_state = 5)\n",
    "cv_resultados = cross_validate(modelo, x_bal, y_bal, cv = skf, scoring = 'recall')"
   ]
  },
  {
   "cell_type": "code",
   "execution_count": 190,
   "metadata": {},
   "outputs": [
    {
     "name": "stdout",
     "output_type": "stream",
     "text": [
      "Intervalo de confiança: [0.7213633578797454, 0.7457104057531401]\n"
     ]
    }
   ],
   "source": [
    "intervalo_conf(cv_resultados)\n",
    "#Melhorou muito os resultados do recall\n",
    "#O intuito da utilizando desse balanceamente é apenas para treinar o modelo\n",
    "#para a utilização do modelo vamos utilizar em dados desbalanceados"
   ]
  },
  {
   "cell_type": "markdown",
   "metadata": {},
   "source": [
    "Em problemas de classificação, podemos nos deparar com bases de dados em que a variável alvo contenha classes muito desbalanceadas, ou seja, contendo categorias com frequências muito diferentes. Ao treinar um modelo com a variável desbalanceada, pode ser que o padrão dos dados para a classe dominante se sobressaia em relação aos da classe com menor frequência, gerando um modelo com desempenho muito baixo para classificar a classe de menor frequência.\n",
    "\n",
    "Para contornar esses problemas gerados pela base de dados desbalanceada, podemos recorrer a duas soluções que consistem em equilibrar os dados da variável alvo: undersampling e oversampling. Essas estratégias são úteis para que o modelo consiga compreender melhor o padrão dos dados, mas é importante destacar que elas também possuem desvantagens e ressalvas que precisamos analisar antes de utilizá-las.\n",
    "\n",
    "Oversampling\n",
    "A estratégia de oversampling consiste em aumentar a quantidade de dados da classe que possui menor frequência até que tenha a mesma quantidade da classe de maior frequência. Dessa maneira, o modelo se atentará mais para o padrão dos dados da classe que tinha menor frequência a princípio e poderá diferenciar melhor as duas classes.\n",
    "\n",
    "Para aumentar a quantidade de dados precisamos gerar novos registros na base de dados. É possível utilizar um oversampling aleatório para duplicar registros de maneira randômica ou usar uma técnica como o SMOTE para gerar dados sintéticos com um padrão próximo dos dados existentes. A desvantagem dessa estratégia é a possibilidade de overfitting do modelo, principalmente ao ser utilizado o oversampling aleatório. Nesse caso, o modelo pode se especializar demais no padrão dos dados que são muito parecidos ou idênticos, já que são copiados ou gerados sinteticamente.\n",
    "\n",
    "Undersampling\n",
    "A estratégia de undersampling é contrária ao oversampling, e consiste em reduzir a quantidade de dados da classe que possui maior frequência até que tenha a mesma quantidade da classe de menor frequência. Dessa forma, o modelo não dará atenção somente aos dados de maior quantidade e poderá diferenciar melhor as duas classes.\n",
    "\n",
    "Para reduzir a quantidade de dados, precisamos remover ou deletar registros existentes. É possível utilizar um undersampling aleatório para selecionar os registros que serão mantidos ou usar técnicas que selecionam ou removem dados a partir de um padrão estabelecido. A principal desvantagem da estratégia de undersampling é a de remover dados que podem ser muito importantes para o entendimento do problema, principalmente quando essa remoção é feita sem nenhum critério, como é o caso do undersampling aleatório.\n",
    "\n",
    "Ambas as estratégias são válidas para a tentativa de melhorar o desempenho de um modelo de classificação, mas devemos ficar atentos ao utilizá-las devido aos pontos negativos que são inerentes a cada um dos métodos. Em qualquer projeto que seja utilizado alguma dessas ferramentas, deve ser feita uma análise para identificar se de fato elas ajudaram ou atrapalharam o desempenho do modelo de classificação."
   ]
  },
  {
   "cell_type": "code",
   "execution_count": 191,
   "metadata": {},
   "outputs": [],
   "source": [
    "#Pipeline para validação"
   ]
  },
  {
   "cell_type": "code",
   "execution_count": 192,
   "metadata": {},
   "outputs": [],
   "source": [
    "from imblearn.pipeline import Pipeline as imbPipeline"
   ]
  },
  {
   "cell_type": "code",
   "execution_count": 193,
   "metadata": {},
   "outputs": [],
   "source": [
    "modelo = DecisionTreeClassifier(max_depth = 10)\n",
    "pipeline = imbPipeline([('oversample', SMOTE()), ('arvore', modelo)])"
   ]
  },
  {
   "cell_type": "code",
   "execution_count": 194,
   "metadata": {},
   "outputs": [],
   "source": [
    "skf = StratifiedKFold(n_splits = 5, shuffle = True, random_state = 5)\n",
    "cv_resultados = cross_validate(pipeline, x , y, cv = skf, scoring = 'recall')"
   ]
  },
  {
   "cell_type": "code",
   "execution_count": 195,
   "metadata": {},
   "outputs": [
    {
     "name": "stdout",
     "output_type": "stream",
     "text": [
      "Intervalo de confiança: [0.18694147448741139, 0.35732457698814435]\n"
     ]
    }
   ],
   "source": [
    "intervalo_conf(cv_resultados)\n",
    "#Temos um resultado com valores menores, mas é o mais correto."
   ]
  },
  {
   "cell_type": "code",
   "execution_count": 196,
   "metadata": {},
   "outputs": [],
   "source": [
    "#undersample"
   ]
  },
  {
   "cell_type": "code",
   "execution_count": 197,
   "metadata": {},
   "outputs": [],
   "source": [
    "from imblearn.under_sampling import NearMiss"
   ]
  },
  {
   "cell_type": "code",
   "execution_count": 200,
   "metadata": {},
   "outputs": [],
   "source": [
    "modelo = DecisionTreeClassifier(max_depth = 10)\n",
    "pipeline = imbPipeline([('undersample', NearMiss(version = 3)), ('arvore', modelo)])\n",
    "skf = StratifiedKFold(n_splits = 5, shuffle = True, random_state = 5)\n",
    "cv_resultados = cross_validate(pipeline, x , y, cv = skf, scoring = 'recall')"
   ]
  },
  {
   "cell_type": "code",
   "execution_count": 202,
   "metadata": {},
   "outputs": [
    {
     "name": "stdout",
     "output_type": "stream",
     "text": [
      "Intervalo de confiança: [0.6239484893092804, 0.6990573543836098]\n"
     ]
    }
   ],
   "source": [
    "intervalo_conf(cv_resultados)\n",
    "#resultado assim ficou melhor do que os outros modelos"
   ]
  },
  {
   "cell_type": "markdown",
   "metadata": {},
   "source": [
    "O desequilíbrio de classes é um problema comum em tarefas de classificação em machine learning, como diagnósticos médicos, detecção de fraudes e detecção de anomalias, onde a frequência da ocorrência de um evento é muito baixa em relação ao todo. Uma das estratégias para lidar com esse problema de dados desequilibrados é o undersampling, que visa reduzir o número de amostras da classe com maior frequência.\n",
    "\n",
    "Dentre os algoritmos de undersampling, podemos citar o NearMiss, que consiste em selecionar amostras da categoria em maior quantidade que possuem um padrão próximo da categoria com menor quantidade, no intuito de preservar informações importantes para a modelagem do problema. Por utilizar um critério de seleção das amostras, esse método é bem mais recomendado que a utilização de um undersampling puramente aleatório, que pode eliminar informações relevantes dos dados.\n",
    "\n",
    "Para selecionar as amostras, esse algoritmo utiliza um método conhecido como vizinho mais próximo. Esse método é aplicado em 3 passos:\n",
    "\n",
    "1º passo: são calculadas distâncias entre todas as amostras da classe com maior frequência e da classe com menor frequência.\n",
    "\n",
    "2º passo: em seguida, para cada amostra da classe de menor frequência, são selecionadas n amostras da classe de maior frequência; por padrão esse número é 3 e vem daí o nome de vizinhos mais próximos. São selecionados 3 vizinhos mais próximos para cada amostra da classe de menor frequência.\n",
    "\n",
    "3º passo: a partir dos elementos que foram selecionados, ocorre um novo processo de seleção para que fique com a mesma quantidade de elementos da classe de menor frequência. Essa seleção final possui 3 diferentes versões:\n",
    "\n",
    "NearMiss versão 1: é calculada uma média entre as distâncias dos 3 vizinhos mais próximos de cada amostra da classe de maior frequência e são escolhidos aqueles que possuírem a menor média de distância.\n",
    "\n",
    "NearMiss versão 2: é calculada uma média entre as distâncias dos 3 vizinhos mais distantes de cada amostra da classe de maior frequência e são escolhidos aqueles que possuírem a menor média de distância.\n",
    "\n",
    "NearMiss versão 3: é dividido em duas etapas. Primeiramente, para cada elemento da classe de menor frequência, M vizinhos mais próximos são escolhidos e armazenados, por padrão o M também é de 3 vizinhos. Depois é calculada a média das distâncias entre os elementos armazenados e os elementos da classe de menor frequência e são escolhidos aqueles que possuírem maior média de distância.\n",
    "\n",
    "Caso queira saber mais sobre as versões do NearMiss, consulte a documentação do imbalanced-learn: https://imbalanced-learn.org/dev/under_sampling.html#mathematical-formulation\n"
   ]
  },
  {
   "cell_type": "code",
   "execution_count": 205,
   "metadata": {},
   "outputs": [
    {
     "name": "stdout",
     "output_type": "stream",
     "text": [
      "              precision    recall  f1-score   support\n",
      "\n",
      "           0       0.94      0.48      0.64      7397\n",
      "           1       0.11      0.70      0.20       707\n",
      "\n",
      "    accuracy                           0.50      8104\n",
      "   macro avg       0.53      0.59      0.42      8104\n",
      "weighted avg       0.87      0.50      0.60      8104\n",
      "\n"
     ]
    },
    {
     "data": {
      "text/plain": [
       "<sklearn.metrics._plot.confusion_matrix.ConfusionMatrixDisplay at 0x233afc9e330>"
      ]
     },
     "execution_count": 205,
     "metadata": {},
     "output_type": "execute_result"
    },
    {
     "data": {
      "image/png": "[encoded data removed]",
      "text/plain": [
       "<Figure size 640x480 with 2 Axes>"
      ]
     },
     "metadata": {},
     "output_type": "display_data"
    }
   ],
   "source": [
    "undersample = NearMiss(version = 3)\n",
    "x_bal, y_bal = undersample.fit_resample(x, y)\n",
    "\n",
    "modelo = DecisionTreeClassifier(max_depth = 10)\n",
    "modelo.fit(x_bal, y_bal)\n",
    "y_previsto = modelo.predict(x_teste)\n",
    "\n",
    "print(classification_report(y_teste, y_previsto))\n",
    "ConfusionMatrixDisplay.from_predictions(y_teste, y_previsto)"
   ]
  },
  {
   "cell_type": "code",
   "execution_count": null,
   "metadata": {},
   "outputs": [],
   "source": []
  }
 ],
 "metadata": {
  "kernelspec": {
   "display_name": "Python 3",
   "language": "python",
   "name": "python3"
  },
  "language_info": {
   "codemirror_mode": {
    "name": "ipython",
    "version": 3
   },
   "file_extension": ".py",
   "mimetype": "text/x-python",
   "name": "python",
   "nbconvert_exporter": "python",
   "pygments_lexer": "ipython3",
   "version": "3.12.1"
  }
 },
 "nbformat": 4,
 "nbformat_minor": 2
}
