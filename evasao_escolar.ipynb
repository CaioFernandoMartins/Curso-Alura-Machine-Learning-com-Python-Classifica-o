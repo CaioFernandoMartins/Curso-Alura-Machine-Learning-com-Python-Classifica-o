{
 "cells": [
  {
   "cell_type": "code",
   "execution_count": 1,
   "metadata": {},
   "outputs": [],
   "source": [
    "import pandas as pd\n",
    "import numpy as np"
   ]
  },
  {
   "cell_type": "code",
   "execution_count": 2,
   "metadata": {},
   "outputs": [],
   "source": [
    "dados = pd.read_csv('C:\\\\Users\\\\caiof\\\\OneDrive\\\\Área de Trabalho\\\\dados\\\\dados_estudantes.csv')"
   ]
  },
  {
   "cell_type": "code",
   "execution_count": 3,
   "metadata": {},
   "outputs": [
    {
     "data": {
      "text/html": [
       "<div>\n",
       "<style scoped>\n",
       "    .dataframe tbody tr th:only-of-type {\n",
       "        vertical-align: middle;\n",
       "    }\n",
       "\n",
       "    .dataframe tbody tr th {\n",
       "        vertical-align: top;\n",
       "    }\n",
       "\n",
       "    .dataframe thead th {\n",
       "        text-align: right;\n",
       "    }\n",
       "</style>\n",
       "<table border=\"1\" class=\"dataframe\">\n",
       "  <thead>\n",
       "    <tr style=\"text-align: right;\">\n",
       "      <th></th>\n",
       "      <th>Estado civil</th>\n",
       "      <th>Migração</th>\n",
       "      <th>Sexo</th>\n",
       "      <th>Idade na matrícula</th>\n",
       "      <th>Estrangeiro</th>\n",
       "      <th>Necessidades educacionais especiais</th>\n",
       "      <th>Devedor</th>\n",
       "      <th>Taxas de matrícula em dia</th>\n",
       "      <th>Bolsista</th>\n",
       "      <th>Taxa de desemprego</th>\n",
       "      <th>...</th>\n",
       "      <th>disciplinas 1º semestre (aprovadas)</th>\n",
       "      <th>disciplinas 1º semestre (notas)</th>\n",
       "      <th>disciplinas 1º semestre (sem avaliações)</th>\n",
       "      <th>disciplinas 2º semestre (creditadas)</th>\n",
       "      <th>disciplinas 2º semestre (matriculadas)</th>\n",
       "      <th>disciplinas 2º semestre (avaliações)</th>\n",
       "      <th>disciplinas 2º semestre (aprovadas)</th>\n",
       "      <th>disciplinas 2º semestre (notas)</th>\n",
       "      <th>disciplinas 2º semestre (sem avaliações)</th>\n",
       "      <th>Target</th>\n",
       "    </tr>\n",
       "  </thead>\n",
       "  <tbody>\n",
       "    <tr>\n",
       "      <th>0</th>\n",
       "      <td>Solteiro</td>\n",
       "      <td>Sim</td>\n",
       "      <td>Masculino</td>\n",
       "      <td>20</td>\n",
       "      <td>Não</td>\n",
       "      <td>Não</td>\n",
       "      <td>Não</td>\n",
       "      <td>Sim</td>\n",
       "      <td>Não</td>\n",
       "      <td>10.8</td>\n",
       "      <td>...</td>\n",
       "      <td>0</td>\n",
       "      <td>0.000000</td>\n",
       "      <td>0</td>\n",
       "      <td>0</td>\n",
       "      <td>0</td>\n",
       "      <td>0</td>\n",
       "      <td>0</td>\n",
       "      <td>0.000000</td>\n",
       "      <td>0</td>\n",
       "      <td>Desistente</td>\n",
       "    </tr>\n",
       "    <tr>\n",
       "      <th>1</th>\n",
       "      <td>Solteiro</td>\n",
       "      <td>Sim</td>\n",
       "      <td>Masculino</td>\n",
       "      <td>19</td>\n",
       "      <td>Não</td>\n",
       "      <td>Não</td>\n",
       "      <td>Não</td>\n",
       "      <td>Não</td>\n",
       "      <td>Não</td>\n",
       "      <td>13.9</td>\n",
       "      <td>...</td>\n",
       "      <td>6</td>\n",
       "      <td>14.000000</td>\n",
       "      <td>0</td>\n",
       "      <td>0</td>\n",
       "      <td>6</td>\n",
       "      <td>6</td>\n",
       "      <td>6</td>\n",
       "      <td>13.666667</td>\n",
       "      <td>0</td>\n",
       "      <td>Graduado</td>\n",
       "    </tr>\n",
       "    <tr>\n",
       "      <th>2</th>\n",
       "      <td>Solteiro</td>\n",
       "      <td>Sim</td>\n",
       "      <td>Masculino</td>\n",
       "      <td>19</td>\n",
       "      <td>Não</td>\n",
       "      <td>Não</td>\n",
       "      <td>Não</td>\n",
       "      <td>Não</td>\n",
       "      <td>Não</td>\n",
       "      <td>10.8</td>\n",
       "      <td>...</td>\n",
       "      <td>0</td>\n",
       "      <td>0.000000</td>\n",
       "      <td>0</td>\n",
       "      <td>0</td>\n",
       "      <td>6</td>\n",
       "      <td>0</td>\n",
       "      <td>0</td>\n",
       "      <td>0.000000</td>\n",
       "      <td>0</td>\n",
       "      <td>Desistente</td>\n",
       "    </tr>\n",
       "    <tr>\n",
       "      <th>3</th>\n",
       "      <td>Solteiro</td>\n",
       "      <td>Sim</td>\n",
       "      <td>Feminino</td>\n",
       "      <td>20</td>\n",
       "      <td>Não</td>\n",
       "      <td>Não</td>\n",
       "      <td>Não</td>\n",
       "      <td>Sim</td>\n",
       "      <td>Não</td>\n",
       "      <td>9.4</td>\n",
       "      <td>...</td>\n",
       "      <td>6</td>\n",
       "      <td>13.428571</td>\n",
       "      <td>0</td>\n",
       "      <td>0</td>\n",
       "      <td>6</td>\n",
       "      <td>10</td>\n",
       "      <td>5</td>\n",
       "      <td>12.400000</td>\n",
       "      <td>0</td>\n",
       "      <td>Graduado</td>\n",
       "    </tr>\n",
       "    <tr>\n",
       "      <th>4</th>\n",
       "      <td>Casado</td>\n",
       "      <td>Não</td>\n",
       "      <td>Feminino</td>\n",
       "      <td>45</td>\n",
       "      <td>Não</td>\n",
       "      <td>Não</td>\n",
       "      <td>Não</td>\n",
       "      <td>Sim</td>\n",
       "      <td>Não</td>\n",
       "      <td>13.9</td>\n",
       "      <td>...</td>\n",
       "      <td>5</td>\n",
       "      <td>12.333333</td>\n",
       "      <td>0</td>\n",
       "      <td>0</td>\n",
       "      <td>6</td>\n",
       "      <td>6</td>\n",
       "      <td>6</td>\n",
       "      <td>13.000000</td>\n",
       "      <td>0</td>\n",
       "      <td>Graduado</td>\n",
       "    </tr>\n",
       "  </tbody>\n",
       "</table>\n",
       "<p>5 rows × 28 columns</p>\n",
       "</div>"
      ],
      "text/plain": [
       "  Estado civil Migração       Sexo  Idade na matrícula Estrangeiro  \\\n",
       "0     Solteiro      Sim  Masculino                  20         Não   \n",
       "1     Solteiro      Sim  Masculino                  19         Não   \n",
       "2     Solteiro      Sim  Masculino                  19         Não   \n",
       "3     Solteiro      Sim   Feminino                  20         Não   \n",
       "4       Casado      Não   Feminino                  45         Não   \n",
       "\n",
       "  Necessidades educacionais especiais Devedor Taxas de matrícula em dia  \\\n",
       "0                                 Não     Não                       Sim   \n",
       "1                                 Não     Não                       Não   \n",
       "2                                 Não     Não                       Não   \n",
       "3                                 Não     Não                       Sim   \n",
       "4                                 Não     Não                       Sim   \n",
       "\n",
       "  Bolsista  Taxa de desemprego  ...  disciplinas 1º semestre (aprovadas)  \\\n",
       "0      Não                10.8  ...                                    0   \n",
       "1      Não                13.9  ...                                    6   \n",
       "2      Não                10.8  ...                                    0   \n",
       "3      Não                 9.4  ...                                    6   \n",
       "4      Não                13.9  ...                                    5   \n",
       "\n",
       "   disciplinas 1º semestre (notas) disciplinas 1º semestre (sem avaliações)  \\\n",
       "0                         0.000000                                        0   \n",
       "1                        14.000000                                        0   \n",
       "2                         0.000000                                        0   \n",
       "3                        13.428571                                        0   \n",
       "4                        12.333333                                        0   \n",
       "\n",
       "  disciplinas 2º semestre (creditadas) disciplinas 2º semestre (matriculadas)  \\\n",
       "0                                    0                                      0   \n",
       "1                                    0                                      6   \n",
       "2                                    0                                      6   \n",
       "3                                    0                                      6   \n",
       "4                                    0                                      6   \n",
       "\n",
       "   disciplinas 2º semestre (avaliações)  disciplinas 2º semestre (aprovadas)  \\\n",
       "0                                     0                                    0   \n",
       "1                                     6                                    6   \n",
       "2                                     0                                    0   \n",
       "3                                    10                                    5   \n",
       "4                                     6                                    6   \n",
       "\n",
       "   disciplinas 2º semestre (notas)  disciplinas 2º semestre (sem avaliações)  \\\n",
       "0                         0.000000                                         0   \n",
       "1                        13.666667                                         0   \n",
       "2                         0.000000                                         0   \n",
       "3                        12.400000                                         0   \n",
       "4                        13.000000                                         0   \n",
       "\n",
       "       Target  \n",
       "0  Desistente  \n",
       "1    Graduado  \n",
       "2  Desistente  \n",
       "3    Graduado  \n",
       "4    Graduado  \n",
       "\n",
       "[5 rows x 28 columns]"
      ]
     },
     "execution_count": 3,
     "metadata": {},
     "output_type": "execute_result"
    }
   ],
   "source": [
    "dados.head()"
   ]
  },
  {
   "cell_type": "code",
   "execution_count": 4,
   "metadata": {},
   "outputs": [],
   "source": [
    "#Vamos criar um modelo para prever a evasao da faculdade"
   ]
  },
  {
   "cell_type": "code",
   "execution_count": 5,
   "metadata": {},
   "outputs": [
    {
     "name": "stdout",
     "output_type": "stream",
     "text": [
      "<class 'pandas.core.frame.DataFrame'>\n",
      "RangeIndex: 4424 entries, 0 to 4423\n",
      "Data columns (total 28 columns):\n",
      " #   Column                                    Non-Null Count  Dtype  \n",
      "---  ------                                    --------------  -----  \n",
      " 0   Estado civil                              4424 non-null   object \n",
      " 1   Migração                                  4424 non-null   object \n",
      " 2   Sexo                                      4424 non-null   object \n",
      " 3   Idade na matrícula                        4424 non-null   int64  \n",
      " 4   Estrangeiro                               4424 non-null   object \n",
      " 5   Necessidades educacionais especiais       4424 non-null   object \n",
      " 6   Devedor                                   4424 non-null   object \n",
      " 7   Taxas de matrícula em dia                 4424 non-null   object \n",
      " 8   Bolsista                                  4424 non-null   object \n",
      " 9   Taxa de desemprego                        4424 non-null   float64\n",
      " 10  Taxa de inflação                          4424 non-null   float64\n",
      " 11  PIB                                       4424 non-null   float64\n",
      " 12  Curso                                     4424 non-null   object \n",
      " 13  Período                                   4424 non-null   object \n",
      " 14  Qualificação prévia                       4424 non-null   object \n",
      " 15  disciplinas 1º semestre (creditadas)      4424 non-null   int64  \n",
      " 16  disciplinas 1º semestre (matriculadas)    4424 non-null   int64  \n",
      " 17  disciplinas 1º semestre (avaliações)      4424 non-null   int64  \n",
      " 18  disciplinas 1º semestre (aprovadas)       4424 non-null   int64  \n",
      " 19  disciplinas 1º semestre (notas)           4424 non-null   float64\n",
      " 20  disciplinas 1º semestre (sem avaliações)  4424 non-null   int64  \n",
      " 21  disciplinas 2º semestre (creditadas)      4424 non-null   int64  \n",
      " 22  disciplinas 2º semestre (matriculadas)    4424 non-null   int64  \n",
      " 23  disciplinas 2º semestre (avaliações)      4424 non-null   int64  \n",
      " 24  disciplinas 2º semestre (aprovadas)       4424 non-null   int64  \n",
      " 25  disciplinas 2º semestre (notas)           4424 non-null   float64\n",
      " 26  disciplinas 2º semestre (sem avaliações)  4424 non-null   int64  \n",
      " 27  Target                                    4424 non-null   object \n",
      "dtypes: float64(5), int64(11), object(12)\n",
      "memory usage: 967.9+ KB\n"
     ]
    }
   ],
   "source": [
    "dados.info()\n",
    "#Verificando os dados e com esse código da para verificar se tem dados nulos."
   ]
  },
  {
   "cell_type": "code",
   "execution_count": 6,
   "metadata": {},
   "outputs": [
    {
     "data": {
      "text/plain": [
       "array(['Desistente', 'Graduado', 'Matriculado'], dtype=object)"
      ]
     },
     "execution_count": 6,
     "metadata": {},
     "output_type": "execute_result"
    }
   ],
   "source": [
    "dados['Target'].unique()\n",
    "#Verificando os valores únicos da coluna escolhida"
   ]
  },
  {
   "cell_type": "code",
   "execution_count": 7,
   "metadata": {},
   "outputs": [
    {
     "data": {
      "text/html": [
       "<div>\n",
       "<style scoped>\n",
       "    .dataframe tbody tr th:only-of-type {\n",
       "        vertical-align: middle;\n",
       "    }\n",
       "\n",
       "    .dataframe tbody tr th {\n",
       "        vertical-align: top;\n",
       "    }\n",
       "\n",
       "    .dataframe thead th {\n",
       "        text-align: right;\n",
       "    }\n",
       "</style>\n",
       "<table border=\"1\" class=\"dataframe\">\n",
       "  <thead>\n",
       "    <tr style=\"text-align: right;\">\n",
       "      <th></th>\n",
       "      <th>Idade na matrícula</th>\n",
       "      <th>Taxa de desemprego</th>\n",
       "      <th>Taxa de inflação</th>\n",
       "      <th>PIB</th>\n",
       "      <th>disciplinas 1º semestre (creditadas)</th>\n",
       "      <th>disciplinas 1º semestre (matriculadas)</th>\n",
       "      <th>disciplinas 1º semestre (avaliações)</th>\n",
       "      <th>disciplinas 1º semestre (aprovadas)</th>\n",
       "      <th>disciplinas 1º semestre (notas)</th>\n",
       "      <th>disciplinas 1º semestre (sem avaliações)</th>\n",
       "      <th>disciplinas 2º semestre (creditadas)</th>\n",
       "      <th>disciplinas 2º semestre (matriculadas)</th>\n",
       "      <th>disciplinas 2º semestre (avaliações)</th>\n",
       "      <th>disciplinas 2º semestre (aprovadas)</th>\n",
       "      <th>disciplinas 2º semestre (notas)</th>\n",
       "      <th>disciplinas 2º semestre (sem avaliações)</th>\n",
       "    </tr>\n",
       "  </thead>\n",
       "  <tbody>\n",
       "    <tr>\n",
       "      <th>count</th>\n",
       "      <td>4424.000000</td>\n",
       "      <td>4424.000000</td>\n",
       "      <td>4424.000000</td>\n",
       "      <td>4424.000000</td>\n",
       "      <td>4424.000000</td>\n",
       "      <td>4424.000000</td>\n",
       "      <td>4424.000000</td>\n",
       "      <td>4424.000000</td>\n",
       "      <td>4424.000000</td>\n",
       "      <td>4424.000000</td>\n",
       "      <td>4424.000000</td>\n",
       "      <td>4424.000000</td>\n",
       "      <td>4424.000000</td>\n",
       "      <td>4424.000000</td>\n",
       "      <td>4424.000000</td>\n",
       "      <td>4424.000000</td>\n",
       "    </tr>\n",
       "    <tr>\n",
       "      <th>mean</th>\n",
       "      <td>23.265145</td>\n",
       "      <td>11.566139</td>\n",
       "      <td>1.228029</td>\n",
       "      <td>0.001969</td>\n",
       "      <td>0.709991</td>\n",
       "      <td>6.270570</td>\n",
       "      <td>8.299051</td>\n",
       "      <td>4.706600</td>\n",
       "      <td>10.640822</td>\n",
       "      <td>0.137658</td>\n",
       "      <td>0.541817</td>\n",
       "      <td>6.232143</td>\n",
       "      <td>8.063291</td>\n",
       "      <td>4.435805</td>\n",
       "      <td>10.230206</td>\n",
       "      <td>0.150316</td>\n",
       "    </tr>\n",
       "    <tr>\n",
       "      <th>std</th>\n",
       "      <td>7.587816</td>\n",
       "      <td>2.663850</td>\n",
       "      <td>1.382711</td>\n",
       "      <td>2.269935</td>\n",
       "      <td>2.360507</td>\n",
       "      <td>2.480178</td>\n",
       "      <td>4.179106</td>\n",
       "      <td>3.094238</td>\n",
       "      <td>4.843663</td>\n",
       "      <td>0.690880</td>\n",
       "      <td>1.918546</td>\n",
       "      <td>2.195951</td>\n",
       "      <td>3.947951</td>\n",
       "      <td>3.014764</td>\n",
       "      <td>5.210808</td>\n",
       "      <td>0.753774</td>\n",
       "    </tr>\n",
       "    <tr>\n",
       "      <th>min</th>\n",
       "      <td>17.000000</td>\n",
       "      <td>7.600000</td>\n",
       "      <td>-0.800000</td>\n",
       "      <td>-4.060000</td>\n",
       "      <td>0.000000</td>\n",
       "      <td>0.000000</td>\n",
       "      <td>0.000000</td>\n",
       "      <td>0.000000</td>\n",
       "      <td>0.000000</td>\n",
       "      <td>0.000000</td>\n",
       "      <td>0.000000</td>\n",
       "      <td>0.000000</td>\n",
       "      <td>0.000000</td>\n",
       "      <td>0.000000</td>\n",
       "      <td>0.000000</td>\n",
       "      <td>0.000000</td>\n",
       "    </tr>\n",
       "    <tr>\n",
       "      <th>25%</th>\n",
       "      <td>19.000000</td>\n",
       "      <td>9.400000</td>\n",
       "      <td>0.300000</td>\n",
       "      <td>-1.700000</td>\n",
       "      <td>0.000000</td>\n",
       "      <td>5.000000</td>\n",
       "      <td>6.000000</td>\n",
       "      <td>3.000000</td>\n",
       "      <td>11.000000</td>\n",
       "      <td>0.000000</td>\n",
       "      <td>0.000000</td>\n",
       "      <td>5.000000</td>\n",
       "      <td>6.000000</td>\n",
       "      <td>2.000000</td>\n",
       "      <td>10.750000</td>\n",
       "      <td>0.000000</td>\n",
       "    </tr>\n",
       "    <tr>\n",
       "      <th>50%</th>\n",
       "      <td>20.000000</td>\n",
       "      <td>11.100000</td>\n",
       "      <td>1.400000</td>\n",
       "      <td>0.320000</td>\n",
       "      <td>0.000000</td>\n",
       "      <td>6.000000</td>\n",
       "      <td>8.000000</td>\n",
       "      <td>5.000000</td>\n",
       "      <td>12.285714</td>\n",
       "      <td>0.000000</td>\n",
       "      <td>0.000000</td>\n",
       "      <td>6.000000</td>\n",
       "      <td>8.000000</td>\n",
       "      <td>5.000000</td>\n",
       "      <td>12.200000</td>\n",
       "      <td>0.000000</td>\n",
       "    </tr>\n",
       "    <tr>\n",
       "      <th>75%</th>\n",
       "      <td>25.000000</td>\n",
       "      <td>13.900000</td>\n",
       "      <td>2.600000</td>\n",
       "      <td>1.790000</td>\n",
       "      <td>0.000000</td>\n",
       "      <td>7.000000</td>\n",
       "      <td>10.000000</td>\n",
       "      <td>6.000000</td>\n",
       "      <td>13.400000</td>\n",
       "      <td>0.000000</td>\n",
       "      <td>0.000000</td>\n",
       "      <td>7.000000</td>\n",
       "      <td>10.000000</td>\n",
       "      <td>6.000000</td>\n",
       "      <td>13.333333</td>\n",
       "      <td>0.000000</td>\n",
       "    </tr>\n",
       "    <tr>\n",
       "      <th>max</th>\n",
       "      <td>70.000000</td>\n",
       "      <td>16.200000</td>\n",
       "      <td>3.700000</td>\n",
       "      <td>3.510000</td>\n",
       "      <td>20.000000</td>\n",
       "      <td>26.000000</td>\n",
       "      <td>45.000000</td>\n",
       "      <td>26.000000</td>\n",
       "      <td>18.875000</td>\n",
       "      <td>12.000000</td>\n",
       "      <td>19.000000</td>\n",
       "      <td>23.000000</td>\n",
       "      <td>33.000000</td>\n",
       "      <td>20.000000</td>\n",
       "      <td>18.571429</td>\n",
       "      <td>12.000000</td>\n",
       "    </tr>\n",
       "  </tbody>\n",
       "</table>\n",
       "</div>"
      ],
      "text/plain": [
       "       Idade na matrícula  Taxa de desemprego  Taxa de inflação          PIB  \\\n",
       "count         4424.000000         4424.000000       4424.000000  4424.000000   \n",
       "mean            23.265145           11.566139          1.228029     0.001969   \n",
       "std              7.587816            2.663850          1.382711     2.269935   \n",
       "min             17.000000            7.600000         -0.800000    -4.060000   \n",
       "25%             19.000000            9.400000          0.300000    -1.700000   \n",
       "50%             20.000000           11.100000          1.400000     0.320000   \n",
       "75%             25.000000           13.900000          2.600000     1.790000   \n",
       "max             70.000000           16.200000          3.700000     3.510000   \n",
       "\n",
       "       disciplinas 1º semestre (creditadas)  \\\n",
       "count                           4424.000000   \n",
       "mean                               0.709991   \n",
       "std                                2.360507   \n",
       "min                                0.000000   \n",
       "25%                                0.000000   \n",
       "50%                                0.000000   \n",
       "75%                                0.000000   \n",
       "max                               20.000000   \n",
       "\n",
       "       disciplinas 1º semestre (matriculadas)  \\\n",
       "count                             4424.000000   \n",
       "mean                                 6.270570   \n",
       "std                                  2.480178   \n",
       "min                                  0.000000   \n",
       "25%                                  5.000000   \n",
       "50%                                  6.000000   \n",
       "75%                                  7.000000   \n",
       "max                                 26.000000   \n",
       "\n",
       "       disciplinas 1º semestre (avaliações)  \\\n",
       "count                           4424.000000   \n",
       "mean                               8.299051   \n",
       "std                                4.179106   \n",
       "min                                0.000000   \n",
       "25%                                6.000000   \n",
       "50%                                8.000000   \n",
       "75%                               10.000000   \n",
       "max                               45.000000   \n",
       "\n",
       "       disciplinas 1º semestre (aprovadas)  disciplinas 1º semestre (notas)  \\\n",
       "count                          4424.000000                      4424.000000   \n",
       "mean                              4.706600                        10.640822   \n",
       "std                               3.094238                         4.843663   \n",
       "min                               0.000000                         0.000000   \n",
       "25%                               3.000000                        11.000000   \n",
       "50%                               5.000000                        12.285714   \n",
       "75%                               6.000000                        13.400000   \n",
       "max                              26.000000                        18.875000   \n",
       "\n",
       "       disciplinas 1º semestre (sem avaliações)  \\\n",
       "count                               4424.000000   \n",
       "mean                                   0.137658   \n",
       "std                                    0.690880   \n",
       "min                                    0.000000   \n",
       "25%                                    0.000000   \n",
       "50%                                    0.000000   \n",
       "75%                                    0.000000   \n",
       "max                                   12.000000   \n",
       "\n",
       "       disciplinas 2º semestre (creditadas)  \\\n",
       "count                           4424.000000   \n",
       "mean                               0.541817   \n",
       "std                                1.918546   \n",
       "min                                0.000000   \n",
       "25%                                0.000000   \n",
       "50%                                0.000000   \n",
       "75%                                0.000000   \n",
       "max                               19.000000   \n",
       "\n",
       "       disciplinas 2º semestre (matriculadas)  \\\n",
       "count                             4424.000000   \n",
       "mean                                 6.232143   \n",
       "std                                  2.195951   \n",
       "min                                  0.000000   \n",
       "25%                                  5.000000   \n",
       "50%                                  6.000000   \n",
       "75%                                  7.000000   \n",
       "max                                 23.000000   \n",
       "\n",
       "       disciplinas 2º semestre (avaliações)  \\\n",
       "count                           4424.000000   \n",
       "mean                               8.063291   \n",
       "std                                3.947951   \n",
       "min                                0.000000   \n",
       "25%                                6.000000   \n",
       "50%                                8.000000   \n",
       "75%                               10.000000   \n",
       "max                               33.000000   \n",
       "\n",
       "       disciplinas 2º semestre (aprovadas)  disciplinas 2º semestre (notas)  \\\n",
       "count                          4424.000000                      4424.000000   \n",
       "mean                              4.435805                        10.230206   \n",
       "std                               3.014764                         5.210808   \n",
       "min                               0.000000                         0.000000   \n",
       "25%                               2.000000                        10.750000   \n",
       "50%                               5.000000                        12.200000   \n",
       "75%                               6.000000                        13.333333   \n",
       "max                              20.000000                        18.571429   \n",
       "\n",
       "       disciplinas 2º semestre (sem avaliações)  \n",
       "count                               4424.000000  \n",
       "mean                                   0.150316  \n",
       "std                                    0.753774  \n",
       "min                                    0.000000  \n",
       "25%                                    0.000000  \n",
       "50%                                    0.000000  \n",
       "75%                                    0.000000  \n",
       "max                                   12.000000  "
      ]
     },
     "execution_count": 7,
     "metadata": {},
     "output_type": "execute_result"
    }
   ],
   "source": [
    "dados.describe()"
   ]
  },
  {
   "cell_type": "markdown",
   "metadata": {},
   "source": [
    "Idade média: A idade média dos estudantes na matrícula é de aproximadamente 23 anos, sendo a idade mínima 17 anos e a idade máxima 70 anos.\n",
    "Taxa de desemprego: A taxa média de desemprego entre os estudantes é de cerca de 11.57%, com valores mínimo e máximo de 7.6% e 16.2%, respectivamente.\n",
    "Taxa de inflação: A taxa média de inflação é de 1.23%, com valores mínimos de 0.8% e 3.7%.\n",
    "PIB: O PIB médio dos estudantes é muito baixa, com uma média próxima de 0, com valores mínimo e máximo de -4.06 e 3.5, respectivamente.\n",
    "Desempenho acadêmico: Os estudantes têm, em média, cerca de 6 disciplinas matriculadas por semestre, com média de notas de 10.64 no primeiro semestre e 10.23 no segundo semestre. A média da disciplinas aprovadas é maior no primeiro semestre (4.7) em comparação com o segundo semestre (4.3).\n",
    "\n",
    "Esses insigths sugerem uma diversidade significativa entre os estudantes em termos de idade, desempenho acadêmico e contexto econômico. A compreensão dessas variabilidades pode ser útil para a tomada de decisão e políticas educacionais."
   ]
  },
  {
   "cell_type": "code",
   "execution_count": 8,
   "metadata": {},
   "outputs": [
    {
     "data": {
      "text/html": [
       "<div>\n",
       "<style scoped>\n",
       "    .dataframe tbody tr th:only-of-type {\n",
       "        vertical-align: middle;\n",
       "    }\n",
       "\n",
       "    .dataframe tbody tr th {\n",
       "        vertical-align: top;\n",
       "    }\n",
       "\n",
       "    .dataframe thead th {\n",
       "        text-align: right;\n",
       "    }\n",
       "</style>\n",
       "<table border=\"1\" class=\"dataframe\">\n",
       "  <thead>\n",
       "    <tr style=\"text-align: right;\">\n",
       "      <th></th>\n",
       "      <th>Estado civil</th>\n",
       "      <th>Migração</th>\n",
       "      <th>Sexo</th>\n",
       "      <th>Estrangeiro</th>\n",
       "      <th>Necessidades educacionais especiais</th>\n",
       "      <th>Devedor</th>\n",
       "      <th>Taxas de matrícula em dia</th>\n",
       "      <th>Bolsista</th>\n",
       "      <th>Curso</th>\n",
       "      <th>Período</th>\n",
       "      <th>Qualificação prévia</th>\n",
       "      <th>Target</th>\n",
       "    </tr>\n",
       "  </thead>\n",
       "  <tbody>\n",
       "    <tr>\n",
       "      <th>count</th>\n",
       "      <td>4424</td>\n",
       "      <td>4424</td>\n",
       "      <td>4424</td>\n",
       "      <td>4424</td>\n",
       "      <td>4424</td>\n",
       "      <td>4424</td>\n",
       "      <td>4424</td>\n",
       "      <td>4424</td>\n",
       "      <td>4424</td>\n",
       "      <td>4424</td>\n",
       "      <td>4424</td>\n",
       "      <td>4424</td>\n",
       "    </tr>\n",
       "    <tr>\n",
       "      <th>unique</th>\n",
       "      <td>6</td>\n",
       "      <td>2</td>\n",
       "      <td>2</td>\n",
       "      <td>2</td>\n",
       "      <td>2</td>\n",
       "      <td>2</td>\n",
       "      <td>2</td>\n",
       "      <td>2</td>\n",
       "      <td>17</td>\n",
       "      <td>2</td>\n",
       "      <td>17</td>\n",
       "      <td>3</td>\n",
       "    </tr>\n",
       "    <tr>\n",
       "      <th>top</th>\n",
       "      <td>Solteiro</td>\n",
       "      <td>Sim</td>\n",
       "      <td>Feminino</td>\n",
       "      <td>Não</td>\n",
       "      <td>Não</td>\n",
       "      <td>Não</td>\n",
       "      <td>Sim</td>\n",
       "      <td>Não</td>\n",
       "      <td>Enfermagem</td>\n",
       "      <td>Diurno</td>\n",
       "      <td>Educação secundária</td>\n",
       "      <td>Graduado</td>\n",
       "    </tr>\n",
       "    <tr>\n",
       "      <th>freq</th>\n",
       "      <td>3919</td>\n",
       "      <td>2426</td>\n",
       "      <td>2868</td>\n",
       "      <td>4314</td>\n",
       "      <td>4373</td>\n",
       "      <td>3921</td>\n",
       "      <td>3896</td>\n",
       "      <td>3325</td>\n",
       "      <td>766</td>\n",
       "      <td>3941</td>\n",
       "      <td>3717</td>\n",
       "      <td>2209</td>\n",
       "    </tr>\n",
       "  </tbody>\n",
       "</table>\n",
       "</div>"
      ],
      "text/plain": [
       "       Estado civil Migração      Sexo Estrangeiro  \\\n",
       "count          4424     4424      4424        4424   \n",
       "unique            6        2         2           2   \n",
       "top        Solteiro      Sim  Feminino         Não   \n",
       "freq           3919     2426      2868        4314   \n",
       "\n",
       "       Necessidades educacionais especiais Devedor Taxas de matrícula em dia  \\\n",
       "count                                 4424    4424                      4424   \n",
       "unique                                   2       2                         2   \n",
       "top                                    Não     Não                       Sim   \n",
       "freq                                  4373    3921                      3896   \n",
       "\n",
       "       Bolsista       Curso Período  Qualificação prévia    Target  \n",
       "count      4424        4424    4424                 4424      4424  \n",
       "unique        2          17       2                   17         3  \n",
       "top         Não  Enfermagem  Diurno  Educação secundária  Graduado  \n",
       "freq       3325         766    3941                 3717      2209  "
      ]
     },
     "execution_count": 8,
     "metadata": {},
     "output_type": "execute_result"
    }
   ],
   "source": [
    "colunas_categoricas = ['Estado civil', 'Migração', 'Sexo', 'Estrangeiro', 'Necessidades educacionais especiais', 'Devedor',  'Taxas de matrícula em dia', 'Bolsista', 'Curso', 'Período', 'Qualificação prévia', 'Target']\n",
    "\n",
    "dados[colunas_categoricas].describe()\n"
   ]
  },
  {
   "cell_type": "markdown",
   "metadata": {},
   "source": [
    "O resultado revela insigths sobre o perfil dos estudantes. A maioria deles são solteiros, do sexo feminino, não é estrangeiro, nem possui necessidades educacionais especiais. A maior parte não é devedora, está com as taxas de matrícula em dia e não é bolsista. O curso mais comum é Enfermagem e a maioria dos estudantes está no período diurno. Em relação a qualificação prévia, a maioria possui em educação segundária (ensino médio). Qunato ao status 'Target', a maioria dos estudandtes estão como graduados."
   ]
  },
  {
   "cell_type": "code",
   "execution_count": 9,
   "metadata": {},
   "outputs": [
    {
     "data": {
      "text/plain": [
       "Estado civil\n",
       "Solteiro               88.584991\n",
       "Casado                  8.566908\n",
       "Divorciado              2.056962\n",
       "União Estável           0.565099\n",
       "Legalmente Separado     0.135624\n",
       "Viúvo                   0.090416\n",
       "Name: proportion, dtype: float64"
      ]
     },
     "execution_count": 9,
     "metadata": {},
     "output_type": "execute_result"
    }
   ],
   "source": [
    "dados['Estado civil'].value_counts(normalize = True) * 100"
   ]
  },
  {
   "cell_type": "code",
   "execution_count": 10,
   "metadata": {},
   "outputs": [],
   "source": [
    "import matplotlib.pyplot as plt\n",
    "import seaborn as sns"
   ]
  },
  {
   "cell_type": "code",
   "execution_count": 11,
   "metadata": {},
   "outputs": [
    {
     "data": {
      "image/png": "[encoded data removed]",
      "text/plain": [
       "<Figure size 500x500 with 1 Axes>"
      ]
     },
     "metadata": {},
     "output_type": "display_data"
    }
   ],
   "source": [
    "sns.displot(dados['Idade na matrícula'], bins = 20)\n",
    "plt.show()"
   ]
  },
  {
   "cell_type": "code",
   "execution_count": 12,
   "metadata": {},
   "outputs": [],
   "source": [
    "color_dict = {'Desistente': '#e34c42', 'Graduado': '#4dc471', 'Matriculado': '#3b71db'}\n",
    "sns.set_palette(list(color_dict.values()))\n",
    "\n",
    "#Pode-se observar que a maior quantidade de matriculados são menores de 20 anos."
   ]
  },
  {
   "cell_type": "code",
   "execution_count": 13,
   "metadata": {},
   "outputs": [
    {
     "data": {
      "image/png": "[encoded data removed]",
      "text/plain": [
       "<Figure size 632x500 with 1 Axes>"
      ]
     },
     "metadata": {},
     "output_type": "display_data"
    }
   ],
   "source": [
    "sns.displot(data = dados, x = 'Idade na matrícula', hue = 'Target', kind = 'kde', fill = 'True')\n",
    "plt.show()"
   ]
  },
  {
   "cell_type": "code",
   "execution_count": 14,
   "metadata": {},
   "outputs": [
    {
     "data": {
      "text/plain": [
       "Estrangeiro\n",
       "Não    0.975136\n",
       "Sim    0.024864\n",
       "Name: proportion, dtype: float64"
      ]
     },
     "execution_count": 14,
     "metadata": {},
     "output_type": "execute_result"
    }
   ],
   "source": [
    "dados['Estrangeiro'].value_counts(normalize = True)"
   ]
  },
  {
   "cell_type": "code",
   "execution_count": 15,
   "metadata": {},
   "outputs": [
    {
     "data": {
      "text/plain": [
       "Sexo\n",
       "Feminino     64.82821\n",
       "Masculino    35.17179\n",
       "Name: proportion, dtype: float64"
      ]
     },
     "execution_count": 15,
     "metadata": {},
     "output_type": "execute_result"
    }
   ],
   "source": [
    "dados['Sexo'].value_counts(normalize = True) *100"
   ]
  },
  {
   "cell_type": "code",
   "execution_count": 16,
   "metadata": {},
   "outputs": [
    {
     "data": {
      "image/png": "[encoded data removed]",
      "text/plain": [
       "<Figure size 640x480 with 1 Axes>"
      ]
     },
     "metadata": {},
     "output_type": "display_data"
    }
   ],
   "source": [
    "sns.countplot(x = 'Sexo', hue = 'Target', data = dados)\n",
    "plt.show()"
   ]
  },
  {
   "cell_type": "code",
   "execution_count": 17,
   "metadata": {},
   "outputs": [],
   "source": [
    "#Podemos observar para esse conjunto de dados que o sexo femino tem mais interesse em realizar o curso. Como tem um volume maior de mulheres no curso há um valor maior na quantidade de mulheres\n",
    "#graduadas se compararmos com o sexo masculino.\n",
    "\n",
    "#A maior parte do estudantes masculinos que fazem a matrícula no curso de enfermagem desistem de seguir o curso."
   ]
  },
  {
   "cell_type": "code",
   "execution_count": 18,
   "metadata": {},
   "outputs": [
    {
     "data": {
      "image/png": "[encoded data removed]",
      "text/plain": [
       "<Figure size 640x480 with 1 Axes>"
      ]
     },
     "metadata": {},
     "output_type": "display_data"
    }
   ],
   "source": [
    "sns.countplot(x = 'Devedor', hue = 'Target', data = dados)\n",
    "plt.show()"
   ]
  },
  {
   "cell_type": "code",
   "execution_count": 19,
   "metadata": {},
   "outputs": [],
   "source": [
    "#Podemos observar entre os alunos que estão devendo que a maior parte desses alunos desistem de seguir o curso.\n"
   ]
  },
  {
   "cell_type": "code",
   "execution_count": 20,
   "metadata": {},
   "outputs": [
    {
     "data": {
      "image/png": "[encoded data removed]",
      "text/plain": [
       "<Figure size 640x480 with 1 Axes>"
      ]
     },
     "metadata": {},
     "output_type": "display_data"
    }
   ],
   "source": [
    "sns.countplot(x = 'Taxas de matrícula em dia', hue = 'Target', data = dados)\n",
    "plt.show()"
   ]
  },
  {
   "cell_type": "code",
   "execution_count": 21,
   "metadata": {},
   "outputs": [],
   "source": [
    "#Dentre as pessoas que não estão com a taxa de matrícula em dia, a maior parte desiste do curso."
   ]
  },
  {
   "cell_type": "code",
   "execution_count": 22,
   "metadata": {},
   "outputs": [
    {
     "data": {
      "image/png": "[encoded data removed]",
      "text/plain": [
       "<Figure size 640x480 with 1 Axes>"
      ]
     },
     "metadata": {},
     "output_type": "display_data"
    }
   ],
   "source": [
    "sns.countplot(x = 'Bolsista', hue = 'Target', data = dados)\n",
    "plt.show()"
   ]
  },
  {
   "cell_type": "code",
   "execution_count": 23,
   "metadata": {},
   "outputs": [],
   "source": [
    "import plotly.express as px"
   ]
  },
  {
   "cell_type": "code",
   "execution_count": 24,
   "metadata": {},
   "outputs": [
    {
     "name": "stderr",
     "output_type": "stream",
     "text": [
      "c:\\Users\\caiof\\AppData\\Local\\Programs\\Python\\Python312\\Lib\\site-packages\\plotly\\express\\_core.py:2065: FutureWarning: When grouping with a length-1 list-like, you will need to pass a length-1 tuple to get_group in a future version of pandas. Pass `(name,)` instead of `name` to silence this warning.\n",
      "  sf: grouped.get_group(s if len(s) > 1 else s[0])\n"
     ]
    },
    {
     "data": {
      "application/vnd.plotly.v1+json": {
       "config": {
        "plotlyServerURL": "https://plot.ly"
       },
       "data": [
        {
         "alignmentgroup": "True",
         "hovertemplate": "Target=Desistente<br>Porcentagem=%{x}<br>Curso=%{y}<extra></extra>",
         "legendgroup": "Desistente",
         "marker": {
          "color": "#e34c42",
          "pattern": {
           "shape": ""
          }
         },
         "name": "Desistente",
         "offsetgroup": "Desistente",
         "orientation": "h",
         "showlegend": true,
         "textposition": "auto",
         "type": "bar",
         "x": [
          40.95238095238095,
          38.139534883720934,
          22.566371681415927,
          44.27083333333333,
          15.404699738903393,
          26.706231454005934,
          54.11764705882353,
          35.26315789473684,
          50.74626865671642,
          35.44776119402985,
          30.513595166163142,
          38.372093023255815,
          18.30985915492958,
          33.02325581395349,
          66.66666666666666,
          38.095238095238095,
          55.319148936170215
         ],
         "xaxis": "x",
         "y": [
          "Agronomia",
          "Animação e Design Multimídia",
          "Design de Comunicação",
          "Educação Básica",
          "Enfermagem",
          "Enfermagem Veterinária",
          "Engenharia da computação",
          "Gestão",
          "Gestão (noturno)",
          "Gestão de Publicidade e Marketing",
          "Jornalismo e Comunicação",
          "Odontologia",
          "Serviço Social",
          "Serviço Social (noturno)",
          "Tecnologias de Produção de Biocombustíveis",
          "Turismo",
          "Zootecnia"
         ],
         "yaxis": "y"
        },
        {
         "alignmentgroup": "True",
         "hovertemplate": "Target=Graduado<br>Porcentagem=%{x}<br>Curso=%{y}<extra></extra>",
         "legendgroup": "Graduado",
         "marker": {
          "color": "#4dc471",
          "pattern": {
           "shape": ""
          }
         },
         "name": "Graduado",
         "offsetgroup": "Graduado",
         "orientation": "h",
         "showlegend": true,
         "textposition": "auto",
         "type": "bar",
         "x": [
          41.42857142857143,
          44.651162790697676,
          58.849557522123895,
          29.6875,
          71.54046997389034,
          51.038575667655785,
          8.235294117647058,
          36.31578947368421,
          29.1044776119403,
          46.64179104477612,
          59.21450151057401,
          41.86046511627907,
          69.85915492957746,
          57.20930232558139,
          8.333333333333332,
          45.63492063492063,
          29.78723404255319
         ],
         "xaxis": "x",
         "y": [
          "Agronomia",
          "Animação e Design Multimídia",
          "Design de Comunicação",
          "Educação Básica",
          "Enfermagem",
          "Enfermagem Veterinária",
          "Engenharia da computação",
          "Gestão",
          "Gestão (noturno)",
          "Gestão de Publicidade e Marketing",
          "Jornalismo e Comunicação",
          "Odontologia",
          "Serviço Social",
          "Serviço Social (noturno)",
          "Tecnologias de Produção de Biocombustíveis",
          "Turismo",
          "Zootecnia"
         ],
         "yaxis": "y"
        },
        {
         "alignmentgroup": "True",
         "hovertemplate": "Target=Matriculado<br>Porcentagem=%{x}<br>Curso=%{y}<extra></extra>",
         "legendgroup": "Matriculado",
         "marker": {
          "color": "#3b71db",
          "pattern": {
           "shape": ""
          }
         },
         "name": "Matriculado",
         "offsetgroup": "Matriculado",
         "orientation": "h",
         "showlegend": true,
         "textposition": "auto",
         "type": "bar",
         "x": [
          17.61904761904762,
          17.209302325581397,
          18.58407079646018,
          26.041666666666668,
          13.054830287206268,
          22.255192878338278,
          37.64705882352941,
          28.421052631578945,
          20.149253731343283,
          17.91044776119403,
          10.27190332326284,
          19.767441860465116,
          11.830985915492958,
          9.767441860465116,
          25,
          16.26984126984127,
          14.893617021276595
         ],
         "xaxis": "x",
         "y": [
          "Agronomia",
          "Animação e Design Multimídia",
          "Design de Comunicação",
          "Educação Básica",
          "Enfermagem",
          "Enfermagem Veterinária",
          "Engenharia da computação",
          "Gestão",
          "Gestão (noturno)",
          "Gestão de Publicidade e Marketing",
          "Jornalismo e Comunicação",
          "Odontologia",
          "Serviço Social",
          "Serviço Social (noturno)",
          "Tecnologias de Produção de Biocombustíveis",
          "Turismo",
          "Zootecnia"
         ],
         "yaxis": "y"
        }
       ],
       "layout": {
        "barmode": "relative",
        "legend": {
         "title": {
          "text": "Target"
         },
         "tracegroupgap": 0
        },
        "margin": {
         "t": 60
        },
        "template": {
         "data": {
          "bar": [
           {
            "error_x": {
             "color": "#2a3f5f"
            },
            "error_y": {
             "color": "#2a3f5f"
            },
            "marker": {
             "line": {
              "color": "#E5ECF6",
              "width": 0.5
             },
             "pattern": {
              "fillmode": "overlay",
              "size": 10,
              "solidity": 0.2
             }
            },
            "type": "bar"
           }
          ],
          "barpolar": [
           {
            "marker": {
             "line": {
              "color": "#E5ECF6",
              "width": 0.5
             },
             "pattern": {
              "fillmode": "overlay",
              "size": 10,
              "solidity": 0.2
             }
            },
            "type": "barpolar"
           }
          ],
          "carpet": [
           {
            "aaxis": {
             "endlinecolor": "#2a3f5f",
             "gridcolor": "white",
             "linecolor": "white",
             "minorgridcolor": "white",
             "startlinecolor": "#2a3f5f"
            },
            "baxis": {
             "endlinecolor": "#2a3f5f",
             "gridcolor": "white",
             "linecolor": "white",
             "minorgridcolor": "white",
             "startlinecolor": "#2a3f5f"
            },
            "type": "carpet"
           }
          ],
          "choropleth": [
           {
            "colorbar": {
             "outlinewidth": 0,
             "ticks": ""
            },
            "type": "choropleth"
           }
          ],
          "contour": [
           {
            "colorbar": {
             "outlinewidth": 0,
             "ticks": ""
            },
            "colorscale": [
             [
              0,
              "#0d0887"
             ],
             [
              0.1111111111111111,
              "#46039f"
             ],
             [
              0.2222222222222222,
              "#7201a8"
             ],
             [
              0.3333333333333333,
              "#9c179e"
             ],
             [
              0.4444444444444444,
              "#bd3786"
             ],
             [
              0.5555555555555556,
              "#d8576b"
             ],
             [
              0.6666666666666666,
              "#ed7953"
             ],
             [
              0.7777777777777778,
              "#fb9f3a"
             ],
             [
              0.8888888888888888,
              "#fdca26"
             ],
             [
              1,
              "#f0f921"
             ]
            ],
            "type": "contour"
           }
          ],
          "contourcarpet": [
           {
            "colorbar": {
             "outlinewidth": 0,
             "ticks": ""
            },
            "type": "contourcarpet"
           }
          ],
          "heatmap": [
           {
            "colorbar": {
             "outlinewidth": 0,
             "ticks": ""
            },
            "colorscale": [
             [
              0,
              "#0d0887"
             ],
             [
              0.1111111111111111,
              "#46039f"
             ],
             [
              0.2222222222222222,
              "#7201a8"
             ],
             [
              0.3333333333333333,
              "#9c179e"
             ],
             [
              0.4444444444444444,
              "#bd3786"
             ],
             [
              0.5555555555555556,
              "#d8576b"
             ],
             [
              0.6666666666666666,
              "#ed7953"
             ],
             [
              0.7777777777777778,
              "#fb9f3a"
             ],
             [
              0.8888888888888888,
              "#fdca26"
             ],
             [
              1,
              "#f0f921"
             ]
            ],
            "type": "heatmap"
           }
          ],
          "heatmapgl": [
           {
            "colorbar": {
             "outlinewidth": 0,
             "ticks": ""
            },
            "colorscale": [
             [
              0,
              "#0d0887"
             ],
             [
              0.1111111111111111,
              "#46039f"
             ],
             [
              0.2222222222222222,
              "#7201a8"
             ],
             [
              0.3333333333333333,
              "#9c179e"
             ],
             [
              0.4444444444444444,
              "#bd3786"
             ],
             [
              0.5555555555555556,
              "#d8576b"
             ],
             [
              0.6666666666666666,
              "#ed7953"
             ],
             [
              0.7777777777777778,
              "#fb9f3a"
             ],
             [
              0.8888888888888888,
              "#fdca26"
             ],
             [
              1,
              "#f0f921"
             ]
            ],
            "type": "heatmapgl"
           }
          ],
          "histogram": [
           {
            "marker": {
             "pattern": {
              "fillmode": "overlay",
              "size": 10,
              "solidity": 0.2
             }
            },
            "type": "histogram"
           }
          ],
          "histogram2d": [
           {
            "colorbar": {
             "outlinewidth": 0,
             "ticks": ""
            },
            "colorscale": [
             [
              0,
              "#0d0887"
             ],
             [
              0.1111111111111111,
              "#46039f"
             ],
             [
              0.2222222222222222,
              "#7201a8"
             ],
             [
              0.3333333333333333,
              "#9c179e"
             ],
             [
              0.4444444444444444,
              "#bd3786"
             ],
             [
              0.5555555555555556,
              "#d8576b"
             ],
             [
              0.6666666666666666,
              "#ed7953"
             ],
             [
              0.7777777777777778,
              "#fb9f3a"
             ],
             [
              0.8888888888888888,
              "#fdca26"
             ],
             [
              1,
              "#f0f921"
             ]
            ],
            "type": "histogram2d"
           }
          ],
          "histogram2dcontour": [
           {
            "colorbar": {
             "outlinewidth": 0,
             "ticks": ""
            },
            "colorscale": [
             [
              0,
              "#0d0887"
             ],
             [
              0.1111111111111111,
              "#46039f"
             ],
             [
              0.2222222222222222,
              "#7201a8"
             ],
             [
              0.3333333333333333,
              "#9c179e"
             ],
             [
              0.4444444444444444,
              "#bd3786"
             ],
             [
              0.5555555555555556,
              "#d8576b"
             ],
             [
              0.6666666666666666,
              "#ed7953"
             ],
             [
              0.7777777777777778,
              "#fb9f3a"
             ],
             [
              0.8888888888888888,
              "#fdca26"
             ],
             [
              1,
              "#f0f921"
             ]
            ],
            "type": "histogram2dcontour"
           }
          ],
          "mesh3d": [
           {
            "colorbar": {
             "outlinewidth": 0,
             "ticks": ""
            },
            "type": "mesh3d"
           }
          ],
          "parcoords": [
           {
            "line": {
             "colorbar": {
              "outlinewidth": 0,
              "ticks": ""
             }
            },
            "type": "parcoords"
           }
          ],
          "pie": [
           {
            "automargin": true,
            "type": "pie"
           }
          ],
          "scatter": [
           {
            "fillpattern": {
             "fillmode": "overlay",
             "size": 10,
             "solidity": 0.2
            },
            "type": "scatter"
           }
          ],
          "scatter3d": [
           {
            "line": {
             "colorbar": {
              "outlinewidth": 0,
              "ticks": ""
             }
            },
            "marker": {
             "colorbar": {
              "outlinewidth": 0,
              "ticks": ""
             }
            },
            "type": "scatter3d"
           }
          ],
          "scattercarpet": [
           {
            "marker": {
             "colorbar": {
              "outlinewidth": 0,
              "ticks": ""
             }
            },
            "type": "scattercarpet"
           }
          ],
          "scattergeo": [
           {
            "marker": {
             "colorbar": {
              "outlinewidth": 0,
              "ticks": ""
             }
            },
            "type": "scattergeo"
           }
          ],
          "scattergl": [
           {
            "marker": {
             "colorbar": {
              "outlinewidth": 0,
              "ticks": ""
             }
            },
            "type": "scattergl"
           }
          ],
          "scattermapbox": [
           {
            "marker": {
             "colorbar": {
              "outlinewidth": 0,
              "ticks": ""
             }
            },
            "type": "scattermapbox"
           }
          ],
          "scatterpolar": [
           {
            "marker": {
             "colorbar": {
              "outlinewidth": 0,
              "ticks": ""
             }
            },
            "type": "scatterpolar"
           }
          ],
          "scatterpolargl": [
           {
            "marker": {
             "colorbar": {
              "outlinewidth": 0,
              "ticks": ""
             }
            },
            "type": "scatterpolargl"
           }
          ],
          "scatterternary": [
           {
            "marker": {
             "colorbar": {
              "outlinewidth": 0,
              "ticks": ""
             }
            },
            "type": "scatterternary"
           }
          ],
          "surface": [
           {
            "colorbar": {
             "outlinewidth": 0,
             "ticks": ""
            },
            "colorscale": [
             [
              0,
              "#0d0887"
             ],
             [
              0.1111111111111111,
              "#46039f"
             ],
             [
              0.2222222222222222,
              "#7201a8"
             ],
             [
              0.3333333333333333,
              "#9c179e"
             ],
             [
              0.4444444444444444,
              "#bd3786"
             ],
             [
              0.5555555555555556,
              "#d8576b"
             ],
             [
              0.6666666666666666,
              "#ed7953"
             ],
             [
              0.7777777777777778,
              "#fb9f3a"
             ],
             [
              0.8888888888888888,
              "#fdca26"
             ],
             [
              1,
              "#f0f921"
             ]
            ],
            "type": "surface"
           }
          ],
          "table": [
           {
            "cells": {
             "fill": {
              "color": "#EBF0F8"
             },
             "line": {
              "color": "white"
             }
            },
            "header": {
             "fill": {
              "color": "#C8D4E3"
             },
             "line": {
              "color": "white"
             }
            },
            "type": "table"
           }
          ]
         },
         "layout": {
          "annotationdefaults": {
           "arrowcolor": "#2a3f5f",
           "arrowhead": 0,
           "arrowwidth": 1
          },
          "autotypenumbers": "strict",
          "coloraxis": {
           "colorbar": {
            "outlinewidth": 0,
            "ticks": ""
           }
          },
          "colorscale": {
           "diverging": [
            [
             0,
             "#8e0152"
            ],
            [
             0.1,
             "#c51b7d"
            ],
            [
             0.2,
             "#de77ae"
            ],
            [
             0.3,
             "#f1b6da"
            ],
            [
             0.4,
             "#fde0ef"
            ],
            [
             0.5,
             "#f7f7f7"
            ],
            [
             0.6,
             "#e6f5d0"
            ],
            [
             0.7,
             "#b8e186"
            ],
            [
             0.8,
             "#7fbc41"
            ],
            [
             0.9,
             "#4d9221"
            ],
            [
             1,
             "#276419"
            ]
           ],
           "sequential": [
            [
             0,
             "#0d0887"
            ],
            [
             0.1111111111111111,
             "#46039f"
            ],
            [
             0.2222222222222222,
             "#7201a8"
            ],
            [
             0.3333333333333333,
             "#9c179e"
            ],
            [
             0.4444444444444444,
             "#bd3786"
            ],
            [
             0.5555555555555556,
             "#d8576b"
            ],
            [
             0.6666666666666666,
             "#ed7953"
            ],
            [
             0.7777777777777778,
             "#fb9f3a"
            ],
            [
             0.8888888888888888,
             "#fdca26"
            ],
            [
             1,
             "#f0f921"
            ]
           ],
           "sequentialminus": [
            [
             0,
             "#0d0887"
            ],
            [
             0.1111111111111111,
             "#46039f"
            ],
            [
             0.2222222222222222,
             "#7201a8"
            ],
            [
             0.3333333333333333,
             "#9c179e"
            ],
            [
             0.4444444444444444,
             "#bd3786"
            ],
            [
             0.5555555555555556,
             "#d8576b"
            ],
            [
             0.6666666666666666,
             "#ed7953"
            ],
            [
             0.7777777777777778,
             "#fb9f3a"
            ],
            [
             0.8888888888888888,
             "#fdca26"
            ],
            [
             1,
             "#f0f921"
            ]
           ]
          },
          "colorway": [
           "#636efa",
           "#EF553B",
           "#00cc96",
           "#ab63fa",
           "#FFA15A",
           "#19d3f3",
           "#FF6692",
           "#B6E880",
           "#FF97FF",
           "#FECB52"
          ],
          "font": {
           "color": "#2a3f5f"
          },
          "geo": {
           "bgcolor": "white",
           "lakecolor": "white",
           "landcolor": "#E5ECF6",
           "showlakes": true,
           "showland": true,
           "subunitcolor": "white"
          },
          "hoverlabel": {
           "align": "left"
          },
          "hovermode": "closest",
          "mapbox": {
           "style": "light"
          },
          "paper_bgcolor": "white",
          "plot_bgcolor": "#E5ECF6",
          "polar": {
           "angularaxis": {
            "gridcolor": "white",
            "linecolor": "white",
            "ticks": ""
           },
           "bgcolor": "#E5ECF6",
           "radialaxis": {
            "gridcolor": "white",
            "linecolor": "white",
            "ticks": ""
           }
          },
          "scene": {
           "xaxis": {
            "backgroundcolor": "#E5ECF6",
            "gridcolor": "white",
            "gridwidth": 2,
            "linecolor": "white",
            "showbackground": true,
            "ticks": "",
            "zerolinecolor": "white"
           },
           "yaxis": {
            "backgroundcolor": "#E5ECF6",
            "gridcolor": "white",
            "gridwidth": 2,
            "linecolor": "white",
            "showbackground": true,
            "ticks": "",
            "zerolinecolor": "white"
           },
           "zaxis": {
            "backgroundcolor": "#E5ECF6",
            "gridcolor": "white",
            "gridwidth": 2,
            "linecolor": "white",
            "showbackground": true,
            "ticks": "",
            "zerolinecolor": "white"
           }
          },
          "shapedefaults": {
           "line": {
            "color": "#2a3f5f"
           }
          },
          "ternary": {
           "aaxis": {
            "gridcolor": "white",
            "linecolor": "white",
            "ticks": ""
           },
           "baxis": {
            "gridcolor": "white",
            "linecolor": "white",
            "ticks": ""
           },
           "bgcolor": "#E5ECF6",
           "caxis": {
            "gridcolor": "white",
            "linecolor": "white",
            "ticks": ""
           }
          },
          "title": {
           "x": 0.05
          },
          "xaxis": {
           "automargin": true,
           "gridcolor": "white",
           "linecolor": "white",
           "ticks": "",
           "title": {
            "standoff": 15
           },
           "zerolinecolor": "white",
           "zerolinewidth": 2
          },
          "yaxis": {
           "automargin": true,
           "gridcolor": "white",
           "linecolor": "white",
           "ticks": "",
           "title": {
            "standoff": 15
           },
           "zerolinecolor": "white",
           "zerolinewidth": 2
          }
         }
        },
        "xaxis": {
         "anchor": "y",
         "domain": [
          0,
          1
         ],
         "title": {
          "text": "Porcentagem"
         }
        },
        "yaxis": {
         "anchor": "x",
         "domain": [
          0,
          1
         ],
         "title": {
          "text": "Curso"
         }
        }
       }
      }
     },
     "metadata": {},
     "output_type": "display_data"
    }
   ],
   "source": [
    "contagem = dados.groupby(['Curso', 'Target']).size().reset_index(name = 'Contagem')\n",
    "\n",
    "contagem['Porcentagem'] = contagem.groupby('Curso')['Contagem'].transform(lambda x: (x/x.sum()) * 100)\n",
    "\n",
    "fig = px.bar(contagem, y = 'Curso', x = 'Porcentagem', color = 'Target', orientation = 'h',\n",
    "             color_discrete_map = {'Desistente': '#e34c42', 'Graduado': '#4dc471', 'Matriculado': '#3b71db'})\n",
    "fig.show()"
   ]
  },
  {
   "cell_type": "code",
   "execution_count": 25,
   "metadata": {},
   "outputs": [],
   "source": [
    "#POdemos observar que os cursos de zootecnia, tecnologias de produção de biocombustíveis e enfermagem veteriániria tem a maior quantidade de alunos desistentes.\n",
    "#Há diferenças em desistencias nos mesmos cursos com horários diferentes, podemos verificar que os cursos noturnos tem mais desistencias quando comparado com o curso diurno."
   ]
  },
  {
   "cell_type": "code",
   "execution_count": 26,
   "metadata": {},
   "outputs": [
    {
     "data": {
      "image/png": "[encoded data removed]",
      "text/plain": [
       "<Figure size 640x480 with 1 Axes>"
      ]
     },
     "metadata": {},
     "output_type": "display_data"
    }
   ],
   "source": [
    "sns.boxplot(x = 'Target', y = 'disciplinas 1º semestre (notas)', data = dados)\n",
    "plt.show()"
   ]
  },
  {
   "cell_type": "code",
   "execution_count": 27,
   "metadata": {},
   "outputs": [],
   "source": [
    "#Pode-se observar que as notas baixas estão associadas a desistencia dos alunos no curso."
   ]
  },
  {
   "cell_type": "code",
   "execution_count": 28,
   "metadata": {},
   "outputs": [
    {
     "data": {
      "image/png": "[encoded data removed]",
      "text/plain": [
       "<Figure size 640x480 with 1 Axes>"
      ]
     },
     "metadata": {},
     "output_type": "display_data"
    }
   ],
   "source": [
    "sns.boxplot(x = 'Target', y = 'disciplinas 2º semestre (notas)', data = dados)\n",
    "plt.show()"
   ]
  },
  {
   "cell_type": "code",
   "execution_count": 29,
   "metadata": {},
   "outputs": [
    {
     "data": {
      "text/plain": [
       "Target\n",
       "Graduado       49.932188\n",
       "Desistente     32.120253\n",
       "Matriculado    17.947559\n",
       "Name: proportion, dtype: float64"
      ]
     },
     "execution_count": 29,
     "metadata": {},
     "output_type": "execute_result"
    }
   ],
   "source": [
    "#Verificando o balanceamento dos dados\n",
    "dados['Target'].value_counts(normalize = True) * 100"
   ]
  },
  {
   "cell_type": "code",
   "execution_count": 30,
   "metadata": {},
   "outputs": [
    {
     "data": {
      "text/html": [
       "<div>\n",
       "<style scoped>\n",
       "    .dataframe tbody tr th:only-of-type {\n",
       "        vertical-align: middle;\n",
       "    }\n",
       "\n",
       "    .dataframe tbody tr th {\n",
       "        vertical-align: top;\n",
       "    }\n",
       "\n",
       "    .dataframe thead th {\n",
       "        text-align: right;\n",
       "    }\n",
       "</style>\n",
       "<table border=\"1\" class=\"dataframe\">\n",
       "  <thead>\n",
       "    <tr style=\"text-align: right;\">\n",
       "      <th></th>\n",
       "      <th>Estado civil</th>\n",
       "      <th>Migração</th>\n",
       "      <th>Sexo</th>\n",
       "      <th>Idade na matrícula</th>\n",
       "      <th>Estrangeiro</th>\n",
       "      <th>Necessidades educacionais especiais</th>\n",
       "      <th>Devedor</th>\n",
       "      <th>Taxas de matrícula em dia</th>\n",
       "      <th>Bolsista</th>\n",
       "      <th>Taxa de desemprego</th>\n",
       "      <th>...</th>\n",
       "      <th>disciplinas 1º semestre (aprovadas)</th>\n",
       "      <th>disciplinas 1º semestre (notas)</th>\n",
       "      <th>disciplinas 1º semestre (sem avaliações)</th>\n",
       "      <th>disciplinas 2º semestre (creditadas)</th>\n",
       "      <th>disciplinas 2º semestre (matriculadas)</th>\n",
       "      <th>disciplinas 2º semestre (avaliações)</th>\n",
       "      <th>disciplinas 2º semestre (aprovadas)</th>\n",
       "      <th>disciplinas 2º semestre (notas)</th>\n",
       "      <th>disciplinas 2º semestre (sem avaliações)</th>\n",
       "      <th>Target</th>\n",
       "    </tr>\n",
       "  </thead>\n",
       "  <tbody>\n",
       "    <tr>\n",
       "      <th>0</th>\n",
       "      <td>Solteiro</td>\n",
       "      <td>Sim</td>\n",
       "      <td>Masculino</td>\n",
       "      <td>20</td>\n",
       "      <td>Não</td>\n",
       "      <td>Não</td>\n",
       "      <td>Não</td>\n",
       "      <td>Sim</td>\n",
       "      <td>Não</td>\n",
       "      <td>10.8</td>\n",
       "      <td>...</td>\n",
       "      <td>0</td>\n",
       "      <td>0.000000</td>\n",
       "      <td>0</td>\n",
       "      <td>0</td>\n",
       "      <td>0</td>\n",
       "      <td>0</td>\n",
       "      <td>0</td>\n",
       "      <td>0.000000</td>\n",
       "      <td>0</td>\n",
       "      <td>Desistente</td>\n",
       "    </tr>\n",
       "    <tr>\n",
       "      <th>1</th>\n",
       "      <td>Solteiro</td>\n",
       "      <td>Sim</td>\n",
       "      <td>Masculino</td>\n",
       "      <td>19</td>\n",
       "      <td>Não</td>\n",
       "      <td>Não</td>\n",
       "      <td>Não</td>\n",
       "      <td>Não</td>\n",
       "      <td>Não</td>\n",
       "      <td>13.9</td>\n",
       "      <td>...</td>\n",
       "      <td>6</td>\n",
       "      <td>14.000000</td>\n",
       "      <td>0</td>\n",
       "      <td>0</td>\n",
       "      <td>6</td>\n",
       "      <td>6</td>\n",
       "      <td>6</td>\n",
       "      <td>13.666667</td>\n",
       "      <td>0</td>\n",
       "      <td>Graduado</td>\n",
       "    </tr>\n",
       "    <tr>\n",
       "      <th>2</th>\n",
       "      <td>Solteiro</td>\n",
       "      <td>Sim</td>\n",
       "      <td>Masculino</td>\n",
       "      <td>19</td>\n",
       "      <td>Não</td>\n",
       "      <td>Não</td>\n",
       "      <td>Não</td>\n",
       "      <td>Não</td>\n",
       "      <td>Não</td>\n",
       "      <td>10.8</td>\n",
       "      <td>...</td>\n",
       "      <td>0</td>\n",
       "      <td>0.000000</td>\n",
       "      <td>0</td>\n",
       "      <td>0</td>\n",
       "      <td>6</td>\n",
       "      <td>0</td>\n",
       "      <td>0</td>\n",
       "      <td>0.000000</td>\n",
       "      <td>0</td>\n",
       "      <td>Desistente</td>\n",
       "    </tr>\n",
       "    <tr>\n",
       "      <th>3</th>\n",
       "      <td>Solteiro</td>\n",
       "      <td>Sim</td>\n",
       "      <td>Feminino</td>\n",
       "      <td>20</td>\n",
       "      <td>Não</td>\n",
       "      <td>Não</td>\n",
       "      <td>Não</td>\n",
       "      <td>Sim</td>\n",
       "      <td>Não</td>\n",
       "      <td>9.4</td>\n",
       "      <td>...</td>\n",
       "      <td>6</td>\n",
       "      <td>13.428571</td>\n",
       "      <td>0</td>\n",
       "      <td>0</td>\n",
       "      <td>6</td>\n",
       "      <td>10</td>\n",
       "      <td>5</td>\n",
       "      <td>12.400000</td>\n",
       "      <td>0</td>\n",
       "      <td>Graduado</td>\n",
       "    </tr>\n",
       "    <tr>\n",
       "      <th>4</th>\n",
       "      <td>Casado</td>\n",
       "      <td>Não</td>\n",
       "      <td>Feminino</td>\n",
       "      <td>45</td>\n",
       "      <td>Não</td>\n",
       "      <td>Não</td>\n",
       "      <td>Não</td>\n",
       "      <td>Sim</td>\n",
       "      <td>Não</td>\n",
       "      <td>13.9</td>\n",
       "      <td>...</td>\n",
       "      <td>5</td>\n",
       "      <td>12.333333</td>\n",
       "      <td>0</td>\n",
       "      <td>0</td>\n",
       "      <td>6</td>\n",
       "      <td>6</td>\n",
       "      <td>6</td>\n",
       "      <td>13.000000</td>\n",
       "      <td>0</td>\n",
       "      <td>Graduado</td>\n",
       "    </tr>\n",
       "  </tbody>\n",
       "</table>\n",
       "<p>5 rows × 28 columns</p>\n",
       "</div>"
      ],
      "text/plain": [
       "  Estado civil Migração       Sexo  Idade na matrícula Estrangeiro  \\\n",
       "0     Solteiro      Sim  Masculino                  20         Não   \n",
       "1     Solteiro      Sim  Masculino                  19         Não   \n",
       "2     Solteiro      Sim  Masculino                  19         Não   \n",
       "3     Solteiro      Sim   Feminino                  20         Não   \n",
       "4       Casado      Não   Feminino                  45         Não   \n",
       "\n",
       "  Necessidades educacionais especiais Devedor Taxas de matrícula em dia  \\\n",
       "0                                 Não     Não                       Sim   \n",
       "1                                 Não     Não                       Não   \n",
       "2                                 Não     Não                       Não   \n",
       "3                                 Não     Não                       Sim   \n",
       "4                                 Não     Não                       Sim   \n",
       "\n",
       "  Bolsista  Taxa de desemprego  ...  disciplinas 1º semestre (aprovadas)  \\\n",
       "0      Não                10.8  ...                                    0   \n",
       "1      Não                13.9  ...                                    6   \n",
       "2      Não                10.8  ...                                    0   \n",
       "3      Não                 9.4  ...                                    6   \n",
       "4      Não                13.9  ...                                    5   \n",
       "\n",
       "   disciplinas 1º semestre (notas) disciplinas 1º semestre (sem avaliações)  \\\n",
       "0                         0.000000                                        0   \n",
       "1                        14.000000                                        0   \n",
       "2                         0.000000                                        0   \n",
       "3                        13.428571                                        0   \n",
       "4                        12.333333                                        0   \n",
       "\n",
       "  disciplinas 2º semestre (creditadas) disciplinas 2º semestre (matriculadas)  \\\n",
       "0                                    0                                      0   \n",
       "1                                    0                                      6   \n",
       "2                                    0                                      6   \n",
       "3                                    0                                      6   \n",
       "4                                    0                                      6   \n",
       "\n",
       "   disciplinas 2º semestre (avaliações)  disciplinas 2º semestre (aprovadas)  \\\n",
       "0                                     0                                    0   \n",
       "1                                     6                                    6   \n",
       "2                                     0                                    0   \n",
       "3                                    10                                    5   \n",
       "4                                     6                                    6   \n",
       "\n",
       "   disciplinas 2º semestre (notas)  disciplinas 2º semestre (sem avaliações)  \\\n",
       "0                         0.000000                                         0   \n",
       "1                        13.666667                                         0   \n",
       "2                         0.000000                                         0   \n",
       "3                        12.400000                                         0   \n",
       "4                        13.000000                                         0   \n",
       "\n",
       "       Target  \n",
       "0  Desistente  \n",
       "1    Graduado  \n",
       "2  Desistente  \n",
       "3    Graduado  \n",
       "4    Graduado  \n",
       "\n",
       "[5 rows x 28 columns]"
      ]
     },
     "execution_count": 30,
     "metadata": {},
     "output_type": "execute_result"
    }
   ],
   "source": [
    "dados.head()"
   ]
  },
  {
   "cell_type": "code",
   "execution_count": 31,
   "metadata": {},
   "outputs": [
    {
     "data": {
      "image/png": "[encoded data removed]",
      "text/plain": [
       "<Figure size 640x480 with 1 Axes>"
      ]
     },
     "metadata": {},
     "output_type": "display_data"
    }
   ],
   "source": [
    "sns.countplot(x = 'Migração', hue = 'Target', data = dados)\n",
    "plt.show()"
   ]
  },
  {
   "cell_type": "markdown",
   "metadata": {},
   "source": [
    "Com o resultado da análise, observamos que cada categoria da coluna 'migração' é representada por três barras distintas: a primeira (em vermelho) indica o número de desistentes, a segunda (em verde) representa o número de graduados, e a terceira (em azul) mostra a quantidade de matriculados. Notavelmente, na categoria de Migração \"Sim\", a quantidade de graduados supera as outras categorias, indicando um alto sucesso no processo educacional. Em contrapartida, na categoria de Migração \"Não\", as barras de desistentes e graduados são quase equivalentes, sugerindo um desafio na retenção de estudantes nesse contexto específico. Essas informações destacam a importância de estratégia de apoio à permanência dos alunos em instiuições de ensino."
   ]
  },
  {
   "cell_type": "code",
   "execution_count": 32,
   "metadata": {},
   "outputs": [
    {
     "data": {
      "text/plain": [
       "Necessidades educacionais especiais\n",
       "Não    98.847197\n",
       "Sim     1.152803\n",
       "Name: proportion, dtype: float64"
      ]
     },
     "execution_count": 32,
     "metadata": {},
     "output_type": "execute_result"
    }
   ],
   "source": [
    "dados['Necessidades educacionais especiais'].value_counts(normalize = True) * 100\n"
   ]
  },
  {
   "cell_type": "markdown",
   "metadata": {},
   "source": [
    "O resultado mostra que apenas 1.15% dos estudantes possuem necessidades especiáis"
   ]
  },
  {
   "cell_type": "code",
   "execution_count": 33,
   "metadata": {},
   "outputs": [
    {
     "data": {
      "text/plain": [
       "Target       Necessidades educacionais especiais\n",
       "Desistente   Não                                    98.803659\n",
       "             Sim                                     1.196341\n",
       "Graduado     Não                                    98.958805\n",
       "             Sim                                     1.041195\n",
       "Matriculado  Não                                    98.614610\n",
       "             Sim                                     1.385390\n",
       "Name: proportion, dtype: float64"
      ]
     },
     "execution_count": 33,
     "metadata": {},
     "output_type": "execute_result"
    }
   ],
   "source": [
    "dados.groupby('Target')['Necessidades educacionais especiais'].value_counts(normalize = True) * 100"
   ]
  },
  {
   "cell_type": "code",
   "execution_count": 34,
   "metadata": {},
   "outputs": [
    {
     "data": {
      "image/png": "[encoded data removed]",
      "text/plain": [
       "<Figure size 640x480 with 1 Axes>"
      ]
     },
     "metadata": {},
     "output_type": "display_data"
    }
   ],
   "source": [
    "sns.boxplot(x='Target', y='Taxa de desemprego', data = dados)\n",
    "plt.show()\n"
   ]
  },
  {
   "cell_type": "markdown",
   "metadata": {},
   "source": [
    "Ao examinarmos o boxplot de taxa de desemprego, observamos que a amplitude, ou seja, a diferença entre os valores mínimos e máximos, é a mesma em todos os gráficos. Além disso, notamos que a linha que divide a caixa ao meio, representando a mediana, está posicionada de forma semelhante em todos os casos, variando entre 10% e 12%. No entando, há uma distinção notável entra as distribuições. As caixas representam os grupos de \"desistentes\" e \"Graduados\" são visualmente idênticas, indicando uma similaridade nas estatísticas centrais desses dois grupos. Por outro lado, a caixa que representa os \"Matriculados\" possui o quartil de 75% posicionando mais abaixo, sugerindo que a maior parte das taxas de desemprego nesse grupo está concentrado em valores mais baixos, com uma menor dispersão em relação aos outros grupos."
   ]
  },
  {
   "cell_type": "code",
   "execution_count": 35,
   "metadata": {},
   "outputs": [
    {
     "data": {
      "image/png": "[encoded data removed]",
      "text/plain": [
       "<Figure size 640x480 with 1 Axes>"
      ]
     },
     "metadata": {},
     "output_type": "display_data"
    }
   ],
   "source": [
    "sns.boxplot(x = 'Target', y = 'Taxa de inflação', data = dados)\n",
    "plt.show()"
   ]
  },
  {
   "cell_type": "markdown",
   "metadata": {},
   "source": [
    "A análise dos boxplots da taxa de inflação revela alguns padrões interessantes. Primeiramente, notamos que a amplitude, que representa a variação total dos dados, é consistente em todos os grupos, indicando uma faixa semelhante de valores de taxa de inflação em cada caso. Isso sugere que, independentemente da categoria, os valores extremos da taxa de inflação não se afastam muito.\n",
    "\n",
    "Um ponto de destaque é a similaridade entre as caixas dos grupos \"Desistentes\" e \"Matriculados\". Ambos exibem caixas idênticas, com as medianas posicionadas na faixa de 1% a 2%. Isso sugere que esses dois grupos têm comportamentos de taxa de inflação muito semelhantes.\n",
    "\n",
    "Por outro lado, o grupo \"Graduados\" se diferencia notavelmente, apresentando uma mediana consideravelmente mais baixa, com menos de 1%. Isso indica que, em média, os \"Graduados\" enfrentam uma taxa de inflação significativamente inferior em comparação com os outros grupos, o que pode ser indicativo de diferenças econômicas ou comportamentais entre os grupos."
   ]
  },
  {
   "cell_type": "code",
   "execution_count": 36,
   "metadata": {},
   "outputs": [
    {
     "data": {
      "image/png": "[encoded data removed]",
      "text/plain": [
       "<Figure size 640x480 with 1 Axes>"
      ]
     },
     "metadata": {},
     "output_type": "display_data"
    }
   ],
   "source": [
    "sns.boxplot(x = 'Target', y = 'PIB', data = dados)\n",
    "plt.show()"
   ]
  },
  {
   "cell_type": "markdown",
   "metadata": {},
   "source": [
    "A análise dos boxplots referentes ao PIB destaca alguns padrões distintos. Primeiramente, é notável que a amplitude, representando a variação total dos dados, seja consistente em todos os grupos, indicando uma faixa semelhante de valores de PIB em cada caso. No entanto, chama a atenção a similaridade marcante entre os grupos de \"Desistentes\" e \"Matriculados\", cujas caixas são praticamente idênticas, e as medianas estão próximas de 0. Essa semelhança sugere que esses dois grupos compartilham tendências econômicas similares. Em contraste, o grupo \"Graduados\" se destaca com uma mediana mais elevada, próxima de 1, indicando um PIB médio superior."
   ]
  },
  {
   "cell_type": "code",
   "execution_count": 37,
   "metadata": {},
   "outputs": [
    {
     "data": {
      "text/plain": [
       "Qualificação prévia\n",
       "Educação secundária                                         84.018987\n",
       "Curso de especialização tecnológica                          4.950271\n",
       "Educação básica 3º ciclo (9º/10º/11º ano) ou equivalente     3.661844\n",
       "Educação superior - licenciatura                             2.848101\n",
       "Outro - 11º ano de escolaridade                              1.017179\n",
       "Educação superior - licenciatura (1º ciclo)                  0.904159\n",
       "Curso técnico superior profissional                          0.813743\n",
       "Educação superior - bacharelado                              0.519892\n",
       "Frequência de educação superior                              0.361664\n",
       "12º ano de escolaridade - não concluído                      0.248644\n",
       "Educação superior - mestrado                                 0.180832\n",
       "Educação básica 2º ciclo (6º/7º/8º ano) ou equivalente       0.158228\n",
       "Educação superior - mestrado (2º ciclo)                      0.135624\n",
       "11º ano de escolaridade - não concluído                      0.090416\n",
       "10º ano de escolaridade - não concluído                      0.045208\n",
       "Educação superior - doutorado                                0.022604\n",
       "10º ano de escolaridade                                      0.022604\n",
       "Name: proportion, dtype: float64"
      ]
     },
     "execution_count": 37,
     "metadata": {},
     "output_type": "execute_result"
    }
   ],
   "source": [
    "dados['Qualificação prévia'].value_counts(normalize = True) * 100"
   ]
  },
  {
   "cell_type": "markdown",
   "metadata": {},
   "source": [
    "O resultado revela que a maioria das pessoas possui educação secundária, representando 84.02%, enquanto cursos de especialização tecnológica e níveis de educação básica do 3º ciclo seguem com porcentagens de 4.95% e 3.66%, respectivamente. Níveis mais elevados de educação, como licenciaturas e pós-graduações, apresentam percentagens baixas, destacando a predominância da educação secundária entre os estudantes analisados."
   ]
  },
  {
   "cell_type": "code",
   "execution_count": 38,
   "metadata": {},
   "outputs": [],
   "source": [
    "#Preparando os dados para o modelo\n",
    "from sklearn.preprocessing import OneHotEncoder"
   ]
  },
  {
   "cell_type": "code",
   "execution_count": 39,
   "metadata": {},
   "outputs": [],
   "source": [
    "colunas_categorias = ['Migração', 'Sexo', 'Estrangeiro', 'Necessidades educacionais especiais', 'Devedor', 'Taxas de matrícula em dia', 'Bolsista',\n",
    "                       'Período', 'Estado civil', 'Curso', 'Qualificação prévia']"
   ]
  },
  {
   "cell_type": "code",
   "execution_count": 40,
   "metadata": {},
   "outputs": [],
   "source": [
    "#Ajustando as colunas que são categóricas\n",
    "\n",
    "encoder = OneHotEncoder(drop='if_binary')  \n",
    "\n",
    "dados_categorico = dados[colunas_categorias]\n",
    "\n",
    "dados_encoder = pd.DataFrame(encoder.fit_transform(dados_categorico).toarray(),\n",
    "                             columns = encoder.get_feature_names_out(colunas_categorias))\n",
    "\n",
    "dados_final = pd.concat([dados.drop(colunas_categorias, axis = 1), dados_encoder], axis = 1)"
   ]
  },
  {
   "cell_type": "code",
   "execution_count": 41,
   "metadata": {},
   "outputs": [
    {
     "data": {
      "text/html": [
       "<div>\n",
       "<style scoped>\n",
       "    .dataframe tbody tr th:only-of-type {\n",
       "        vertical-align: middle;\n",
       "    }\n",
       "\n",
       "    .dataframe tbody tr th {\n",
       "        vertical-align: top;\n",
       "    }\n",
       "\n",
       "    .dataframe thead th {\n",
       "        text-align: right;\n",
       "    }\n",
       "</style>\n",
       "<table border=\"1\" class=\"dataframe\">\n",
       "  <thead>\n",
       "    <tr style=\"text-align: right;\">\n",
       "      <th></th>\n",
       "      <th>Idade na matrícula</th>\n",
       "      <th>Taxa de desemprego</th>\n",
       "      <th>Taxa de inflação</th>\n",
       "      <th>PIB</th>\n",
       "      <th>disciplinas 1º semestre (creditadas)</th>\n",
       "      <th>disciplinas 1º semestre (matriculadas)</th>\n",
       "      <th>disciplinas 1º semestre (avaliações)</th>\n",
       "      <th>disciplinas 1º semestre (aprovadas)</th>\n",
       "      <th>disciplinas 1º semestre (notas)</th>\n",
       "      <th>disciplinas 1º semestre (sem avaliações)</th>\n",
       "      <th>...</th>\n",
       "      <th>Qualificação prévia_Educação básica 3º ciclo (9º/10º/11º ano) ou equivalente</th>\n",
       "      <th>Qualificação prévia_Educação secundária</th>\n",
       "      <th>Qualificação prévia_Educação superior - bacharelado</th>\n",
       "      <th>Qualificação prévia_Educação superior - doutorado</th>\n",
       "      <th>Qualificação prévia_Educação superior - licenciatura</th>\n",
       "      <th>Qualificação prévia_Educação superior - licenciatura (1º ciclo)</th>\n",
       "      <th>Qualificação prévia_Educação superior - mestrado</th>\n",
       "      <th>Qualificação prévia_Educação superior - mestrado (2º ciclo)</th>\n",
       "      <th>Qualificação prévia_Frequência de educação superior</th>\n",
       "      <th>Qualificação prévia_Outro - 11º ano de escolaridade</th>\n",
       "    </tr>\n",
       "  </thead>\n",
       "  <tbody>\n",
       "    <tr>\n",
       "      <th>0</th>\n",
       "      <td>20</td>\n",
       "      <td>10.8</td>\n",
       "      <td>1.4</td>\n",
       "      <td>1.74</td>\n",
       "      <td>0</td>\n",
       "      <td>0</td>\n",
       "      <td>0</td>\n",
       "      <td>0</td>\n",
       "      <td>0.000000</td>\n",
       "      <td>0</td>\n",
       "      <td>...</td>\n",
       "      <td>0.0</td>\n",
       "      <td>1.0</td>\n",
       "      <td>0.0</td>\n",
       "      <td>0.0</td>\n",
       "      <td>0.0</td>\n",
       "      <td>0.0</td>\n",
       "      <td>0.0</td>\n",
       "      <td>0.0</td>\n",
       "      <td>0.0</td>\n",
       "      <td>0.0</td>\n",
       "    </tr>\n",
       "    <tr>\n",
       "      <th>1</th>\n",
       "      <td>19</td>\n",
       "      <td>13.9</td>\n",
       "      <td>-0.3</td>\n",
       "      <td>0.79</td>\n",
       "      <td>0</td>\n",
       "      <td>6</td>\n",
       "      <td>6</td>\n",
       "      <td>6</td>\n",
       "      <td>14.000000</td>\n",
       "      <td>0</td>\n",
       "      <td>...</td>\n",
       "      <td>0.0</td>\n",
       "      <td>1.0</td>\n",
       "      <td>0.0</td>\n",
       "      <td>0.0</td>\n",
       "      <td>0.0</td>\n",
       "      <td>0.0</td>\n",
       "      <td>0.0</td>\n",
       "      <td>0.0</td>\n",
       "      <td>0.0</td>\n",
       "      <td>0.0</td>\n",
       "    </tr>\n",
       "    <tr>\n",
       "      <th>2</th>\n",
       "      <td>19</td>\n",
       "      <td>10.8</td>\n",
       "      <td>1.4</td>\n",
       "      <td>1.74</td>\n",
       "      <td>0</td>\n",
       "      <td>6</td>\n",
       "      <td>0</td>\n",
       "      <td>0</td>\n",
       "      <td>0.000000</td>\n",
       "      <td>0</td>\n",
       "      <td>...</td>\n",
       "      <td>0.0</td>\n",
       "      <td>1.0</td>\n",
       "      <td>0.0</td>\n",
       "      <td>0.0</td>\n",
       "      <td>0.0</td>\n",
       "      <td>0.0</td>\n",
       "      <td>0.0</td>\n",
       "      <td>0.0</td>\n",
       "      <td>0.0</td>\n",
       "      <td>0.0</td>\n",
       "    </tr>\n",
       "    <tr>\n",
       "      <th>3</th>\n",
       "      <td>20</td>\n",
       "      <td>9.4</td>\n",
       "      <td>-0.8</td>\n",
       "      <td>-3.12</td>\n",
       "      <td>0</td>\n",
       "      <td>6</td>\n",
       "      <td>8</td>\n",
       "      <td>6</td>\n",
       "      <td>13.428571</td>\n",
       "      <td>0</td>\n",
       "      <td>...</td>\n",
       "      <td>0.0</td>\n",
       "      <td>1.0</td>\n",
       "      <td>0.0</td>\n",
       "      <td>0.0</td>\n",
       "      <td>0.0</td>\n",
       "      <td>0.0</td>\n",
       "      <td>0.0</td>\n",
       "      <td>0.0</td>\n",
       "      <td>0.0</td>\n",
       "      <td>0.0</td>\n",
       "    </tr>\n",
       "    <tr>\n",
       "      <th>4</th>\n",
       "      <td>45</td>\n",
       "      <td>13.9</td>\n",
       "      <td>-0.3</td>\n",
       "      <td>0.79</td>\n",
       "      <td>0</td>\n",
       "      <td>6</td>\n",
       "      <td>9</td>\n",
       "      <td>5</td>\n",
       "      <td>12.333333</td>\n",
       "      <td>0</td>\n",
       "      <td>...</td>\n",
       "      <td>0.0</td>\n",
       "      <td>1.0</td>\n",
       "      <td>0.0</td>\n",
       "      <td>0.0</td>\n",
       "      <td>0.0</td>\n",
       "      <td>0.0</td>\n",
       "      <td>0.0</td>\n",
       "      <td>0.0</td>\n",
       "      <td>0.0</td>\n",
       "      <td>0.0</td>\n",
       "    </tr>\n",
       "  </tbody>\n",
       "</table>\n",
       "<p>5 rows × 65 columns</p>\n",
       "</div>"
      ],
      "text/plain": [
       "   Idade na matrícula  Taxa de desemprego  Taxa de inflação   PIB  \\\n",
       "0                  20                10.8               1.4  1.74   \n",
       "1                  19                13.9              -0.3  0.79   \n",
       "2                  19                10.8               1.4  1.74   \n",
       "3                  20                 9.4              -0.8 -3.12   \n",
       "4                  45                13.9              -0.3  0.79   \n",
       "\n",
       "   disciplinas 1º semestre (creditadas)  \\\n",
       "0                                     0   \n",
       "1                                     0   \n",
       "2                                     0   \n",
       "3                                     0   \n",
       "4                                     0   \n",
       "\n",
       "   disciplinas 1º semestre (matriculadas)  \\\n",
       "0                                       0   \n",
       "1                                       6   \n",
       "2                                       6   \n",
       "3                                       6   \n",
       "4                                       6   \n",
       "\n",
       "   disciplinas 1º semestre (avaliações)  disciplinas 1º semestre (aprovadas)  \\\n",
       "0                                     0                                    0   \n",
       "1                                     6                                    6   \n",
       "2                                     0                                    0   \n",
       "3                                     8                                    6   \n",
       "4                                     9                                    5   \n",
       "\n",
       "   disciplinas 1º semestre (notas)  disciplinas 1º semestre (sem avaliações)  \\\n",
       "0                         0.000000                                         0   \n",
       "1                        14.000000                                         0   \n",
       "2                         0.000000                                         0   \n",
       "3                        13.428571                                         0   \n",
       "4                        12.333333                                         0   \n",
       "\n",
       "   ...  \\\n",
       "0  ...   \n",
       "1  ...   \n",
       "2  ...   \n",
       "3  ...   \n",
       "4  ...   \n",
       "\n",
       "   Qualificação prévia_Educação básica 3º ciclo (9º/10º/11º ano) ou equivalente  \\\n",
       "0                                                0.0                              \n",
       "1                                                0.0                              \n",
       "2                                                0.0                              \n",
       "3                                                0.0                              \n",
       "4                                                0.0                              \n",
       "\n",
       "   Qualificação prévia_Educação secundária  \\\n",
       "0                                      1.0   \n",
       "1                                      1.0   \n",
       "2                                      1.0   \n",
       "3                                      1.0   \n",
       "4                                      1.0   \n",
       "\n",
       "   Qualificação prévia_Educação superior - bacharelado  \\\n",
       "0                                                0.0     \n",
       "1                                                0.0     \n",
       "2                                                0.0     \n",
       "3                                                0.0     \n",
       "4                                                0.0     \n",
       "\n",
       "   Qualificação prévia_Educação superior - doutorado  \\\n",
       "0                                                0.0   \n",
       "1                                                0.0   \n",
       "2                                                0.0   \n",
       "3                                                0.0   \n",
       "4                                                0.0   \n",
       "\n",
       "   Qualificação prévia_Educação superior - licenciatura  \\\n",
       "0                                                0.0      \n",
       "1                                                0.0      \n",
       "2                                                0.0      \n",
       "3                                                0.0      \n",
       "4                                                0.0      \n",
       "\n",
       "   Qualificação prévia_Educação superior - licenciatura (1º ciclo)  \\\n",
       "0                                                0.0                 \n",
       "1                                                0.0                 \n",
       "2                                                0.0                 \n",
       "3                                                0.0                 \n",
       "4                                                0.0                 \n",
       "\n",
       "  Qualificação prévia_Educação superior - mestrado  \\\n",
       "0                                              0.0   \n",
       "1                                              0.0   \n",
       "2                                              0.0   \n",
       "3                                              0.0   \n",
       "4                                              0.0   \n",
       "\n",
       "   Qualificação prévia_Educação superior - mestrado (2º ciclo)  \\\n",
       "0                                                0.0             \n",
       "1                                                0.0             \n",
       "2                                                0.0             \n",
       "3                                                0.0             \n",
       "4                                                0.0             \n",
       "\n",
       "   Qualificação prévia_Frequência de educação superior  \\\n",
       "0                                                0.0     \n",
       "1                                                0.0     \n",
       "2                                                0.0     \n",
       "3                                                0.0     \n",
       "4                                                0.0     \n",
       "\n",
       "   Qualificação prévia_Outro - 11º ano de escolaridade  \n",
       "0                                                0.0    \n",
       "1                                                0.0    \n",
       "2                                                0.0    \n",
       "3                                                0.0    \n",
       "4                                                0.0    \n",
       "\n",
       "[5 rows x 65 columns]"
      ]
     },
     "execution_count": 41,
     "metadata": {},
     "output_type": "execute_result"
    }
   ],
   "source": [
    "dados_final.head()"
   ]
  },
  {
   "cell_type": "code",
   "execution_count": 42,
   "metadata": {},
   "outputs": [],
   "source": [
    "X = dados_final.drop('Target', axis = 1)\n",
    "y = dados_final['Target']"
   ]
  },
  {
   "cell_type": "code",
   "execution_count": 43,
   "metadata": {},
   "outputs": [],
   "source": [
    "from sklearn.model_selection import train_test_split"
   ]
  },
  {
   "cell_type": "code",
   "execution_count": 44,
   "metadata": {},
   "outputs": [],
   "source": [
    "X, X_teste, y, y_teste = train_test_split(X, y, test_size = 0.15, stratify = y, random_state = 0)\n",
    "X_treino, X_val, y_treino, y_val = train_test_split(X, y, stratify = y, random_state = 0)"
   ]
  },
  {
   "cell_type": "code",
   "execution_count": 45,
   "metadata": {},
   "outputs": [],
   "source": [
    "from sklearn.ensemble import RandomForestClassifier"
   ]
  },
  {
   "cell_type": "code",
   "execution_count": 46,
   "metadata": {},
   "outputs": [
    {
     "name": "stdout",
     "output_type": "stream",
     "text": [
      "Acurácia de treino: 0.9975177304964539\n",
      "Acurácia de validação: 0.7680851063829788\n"
     ]
    }
   ],
   "source": [
    "modelo_rf = RandomForestClassifier(random_state = 0)\n",
    "modelo_rf.fit(X_treino, y_treino)\n",
    "y_pred = modelo_rf.predict(X_val)\n",
    "print(f'Acurácia de treino: {modelo_rf.score(X_treino, y_treino)}')\n",
    "print(f'Acurácia de validação: {modelo_rf.score(X_val, y_val)}')"
   ]
  },
  {
   "cell_type": "code",
   "execution_count": 47,
   "metadata": {},
   "outputs": [],
   "source": [
    "#O modelo estar com overfit, está ajustando apenas para os dados de treinamento.\n",
    "#Agora vamos melhorar o modelo"
   ]
  },
  {
   "cell_type": "code",
   "execution_count": 48,
   "metadata": {},
   "outputs": [
    {
     "name": "stdout",
     "output_type": "stream",
     "text": [
      "Acurácia de treino: 0.898936170212766\n",
      "Acurácia de validação: 0.7734042553191489\n"
     ]
    }
   ],
   "source": [
    "modelo_rf = RandomForestClassifier(random_state = 0, max_depth = 10)\n",
    "modelo_rf.fit(X_treino, y_treino)\n",
    "y_pred = modelo_rf.predict(X_val)\n",
    "print(f'Acurácia de treino: {modelo_rf.score(X_treino, y_treino)}')\n",
    "print(f'Acurácia de validação: {modelo_rf.score(X_val, y_val)}')"
   ]
  },
  {
   "cell_type": "code",
   "execution_count": 49,
   "metadata": {},
   "outputs": [],
   "source": [
    "#Entendendo a performance do modelo"
   ]
  },
  {
   "cell_type": "code",
   "execution_count": 50,
   "metadata": {},
   "outputs": [],
   "source": [
    "from sklearn.metrics import confusion_matrix, ConfusionMatrixDisplay"
   ]
  },
  {
   "cell_type": "code",
   "execution_count": 51,
   "metadata": {},
   "outputs": [],
   "source": [
    "matriz_confusao = confusion_matrix(y_val, y_pred)"
   ]
  },
  {
   "cell_type": "code",
   "execution_count": 52,
   "metadata": {},
   "outputs": [
    {
     "data": {
      "image/png": "[encoded data removed]",
      "text/plain": [
       "<Figure size 640x480 with 2 Axes>"
      ]
     },
     "metadata": {},
     "output_type": "display_data"
    }
   ],
   "source": [
    "visualizacao = ConfusionMatrixDisplay(confusion_matrix = matriz_confusao)\n",
    "visualizacao.plot();"
   ]
  },
  {
   "cell_type": "code",
   "execution_count": 53,
   "metadata": {},
   "outputs": [
    {
     "data": {
      "image/png": "[encoded data removed]",
      "text/plain": [
       "<Figure size 640x480 with 2 Axes>"
      ]
     },
     "metadata": {},
     "output_type": "display_data"
    }
   ],
   "source": [
    "visualizacao = ConfusionMatrixDisplay(confusion_matrix = matriz_confusao, display_labels = modelo_rf.classes_)\n",
    "visualizacao.plot();"
   ]
  },
  {
   "cell_type": "code",
   "execution_count": 54,
   "metadata": {},
   "outputs": [],
   "source": [
    "#intervalos de dados muito discrepantes, vamos normalizar os valors"
   ]
  },
  {
   "cell_type": "code",
   "execution_count": 55,
   "metadata": {},
   "outputs": [
    {
     "data": {
      "text/plain": [
       "<sklearn.metrics._plot.confusion_matrix.ConfusionMatrixDisplay at 0x12e4d68aff0>"
      ]
     },
     "execution_count": 55,
     "metadata": {},
     "output_type": "execute_result"
    },
    {
     "data": {
      "image/png": "[encoded data removed]",
      "text/plain": [
       "<Figure size 640x480 with 2 Axes>"
      ]
     },
     "metadata": {},
     "output_type": "display_data"
    }
   ],
   "source": [
    "ConfusionMatrixDisplay.from_predictions(y_val, y_pred, normalize = 'true', cmap = 'Blues')"
   ]
  },
  {
   "cell_type": "code",
   "execution_count": 56,
   "metadata": {},
   "outputs": [],
   "source": [
    "from sklearn.metrics import classification_report"
   ]
  },
  {
   "cell_type": "code",
   "execution_count": 57,
   "metadata": {},
   "outputs": [
    {
     "name": "stdout",
     "output_type": "stream",
     "text": [
      "Relatório de Classificação: \n",
      "               precision    recall  f1-score   support\n",
      "\n",
      "  Desistente       0.82      0.77      0.79       302\n",
      "    Graduado       0.77      0.96      0.86       469\n",
      " Matriculado       0.61      0.26      0.37       169\n",
      "\n",
      "    accuracy                           0.77       940\n",
      "   macro avg       0.73      0.66      0.67       940\n",
      "weighted avg       0.76      0.77      0.75       940\n",
      "\n"
     ]
    }
   ],
   "source": [
    "report = classification_report(y_val, y_pred)\n",
    "print('Relatório de Classificação: \\n', report)"
   ]
  },
  {
   "cell_type": "code",
   "execution_count": 58,
   "metadata": {},
   "outputs": [
    {
     "data": {
      "text/plain": [
       "Target\n",
       "Graduado       1408\n",
       "Desistente      906\n",
       "Matriculado     506\n",
       "Name: count, dtype: int64"
      ]
     },
     "execution_count": 58,
     "metadata": {},
     "output_type": "execute_result"
    }
   ],
   "source": [
    "y_treino.value_counts()"
   ]
  },
  {
   "cell_type": "code",
   "execution_count": 59,
   "metadata": {},
   "outputs": [],
   "source": [
    "from imblearn.over_sampling import SMOTE"
   ]
  },
  {
   "cell_type": "code",
   "execution_count": 60,
   "metadata": {},
   "outputs": [],
   "source": [
    "oversample = SMOTE(random_state = 0)\n",
    "X_balanceado, y_balanceado = oversample.fit_resample(X_treino, y_treino)"
   ]
  },
  {
   "cell_type": "code",
   "execution_count": 61,
   "metadata": {},
   "outputs": [
    {
     "data": {
      "text/plain": [
       "Target\n",
       "Desistente     1408\n",
       "Graduado       1408\n",
       "Matriculado    1408\n",
       "Name: count, dtype: int64"
      ]
     },
     "execution_count": 61,
     "metadata": {},
     "output_type": "execute_result"
    }
   ],
   "source": [
    "y_balanceado.value_counts()"
   ]
  },
  {
   "cell_type": "code",
   "execution_count": 62,
   "metadata": {},
   "outputs": [],
   "source": [
    "modelo = RandomForestClassifier(random_state = 0, max_depth = 10)\n",
    "modelo.fit(X_balanceado, y_balanceado)\n",
    "y_pred = modelo.predict(X_val)"
   ]
  },
  {
   "cell_type": "code",
   "execution_count": 63,
   "metadata": {},
   "outputs": [
    {
     "name": "stdout",
     "output_type": "stream",
     "text": [
      "              precision    recall  f1-score   support\n",
      "\n",
      "  Desistente       0.84      0.72      0.77       302\n",
      "    Graduado       0.80      0.86      0.83       469\n",
      " Matriculado       0.48      0.51      0.49       169\n",
      "\n",
      "    accuracy                           0.75       940\n",
      "   macro avg       0.71      0.70      0.70       940\n",
      "weighted avg       0.76      0.75      0.75       940\n",
      "\n"
     ]
    },
    {
     "data": {
      "image/png": "[encoded data removed]",
      "text/plain": [
       "<Figure size 640x480 with 2 Axes>"
      ]
     },
     "metadata": {},
     "output_type": "display_data"
    }
   ],
   "source": [
    "print(classification_report(y_val, y_pred))\n",
    "ConfusionMatrixDisplay.from_predictions(y_val, y_pred, normalize = 'true', cmap = 'Blues');"
   ]
  },
  {
   "cell_type": "markdown",
   "metadata": {},
   "source": [
    "Em muitos problemas de aprendizagem de máquina, os conjuntos de dados podem conter classes desbalanceadas, ou seja, uma classe pode ter muito mais exemplos do que outra, como você pode ver no caso do projeto que estamos desenvolvendo aqui. Isso pode ser problemático, pois os modelos de machine learning tendem a ser tendenciosos em direção às classes majoritárias, ignorando as classes minoritárias. Imagine um problema de detecção de fraudes em transações financeiras, onde a classe de transações fraudulentas é geralmente muito menor do que a classe de transações legítimas. Se nós não tratarmos esse desequilíbrio, nosso modelo pode ter um desempenho ruim na detecção de fraudes, que é o que mais nos interessa."
   ]
  },
  {
   "cell_type": "code",
   "execution_count": 64,
   "metadata": {},
   "outputs": [],
   "source": [
    "from imblearn.over_sampling import SMOTE\n",
    "oversample = SMOTE(random_state=0)\n",
    "X_balanceado, y_balanceado = oversample.fit_resample(X_treino, y_treino)\n"
   ]
  },
  {
   "cell_type": "code",
   "execution_count": 65,
   "metadata": {},
   "outputs": [],
   "source": [
    "from sklearn.ensemble import GradientBoostingClassifier\n",
    "modelo_gb = GradientBoostingClassifier(random_state=0)\n",
    "modelo_gb.fit(X_balanceado, y_balanceado)\n",
    "y_pred = modelo_gb.predict(X_val)\n"
   ]
  },
  {
   "cell_type": "code",
   "execution_count": 66,
   "metadata": {},
   "outputs": [
    {
     "data": {
      "image/png": "[encoded data removed]",
      "text/plain": [
       "<Figure size 640x480 with 2 Axes>"
      ]
     },
     "metadata": {},
     "output_type": "display_data"
    }
   ],
   "source": [
    "from sklearn.metrics import ConfusionMatrixDisplay\n",
    "ConfusionMatrixDisplay.from_estimator(modelo_gb, X_val, y_val, normalize = 'true', cmap = 'Blues');\n"
   ]
  },
  {
   "cell_type": "code",
   "execution_count": 67,
   "metadata": {},
   "outputs": [
    {
     "name": "stdout",
     "output_type": "stream",
     "text": [
      "Relatório de Classificação:\n",
      "               precision    recall  f1-score   support\n",
      "\n",
      "  Desistente       0.82      0.74      0.78       302\n",
      "    Graduado       0.81      0.89      0.85       469\n",
      " Matriculado       0.51      0.47      0.49       169\n",
      "\n",
      "    accuracy                           0.76       940\n",
      "   macro avg       0.72      0.70      0.70       940\n",
      "weighted avg       0.76      0.76      0.76       940\n",
      "\n"
     ]
    }
   ],
   "source": [
    "from sklearn.metrics import classification_report\n",
    "\n",
    "report = classification_report(y_val, y_pred)\n",
    "print(\"Relatório de Classificação:\\n\", report)"
   ]
  },
  {
   "cell_type": "code",
   "execution_count": 68,
   "metadata": {},
   "outputs": [],
   "source": [
    "#Não podemos balancear os dados de validação"
   ]
  },
  {
   "cell_type": "code",
   "execution_count": 69,
   "metadata": {},
   "outputs": [],
   "source": [
    "#utilizando uma validação cruzada\n",
    "\n",
    "from imblearn.pipeline import Pipeline as imbpipeline"
   ]
  },
  {
   "cell_type": "code",
   "execution_count": 70,
   "metadata": {},
   "outputs": [],
   "source": [
    "modelo = RandomForestClassifier(max_depth = 10)\n",
    "pipeline = imbpipeline([('oversample', SMOTE()), ('floresta', modelo)])"
   ]
  },
  {
   "cell_type": "code",
   "execution_count": 72,
   "metadata": {},
   "outputs": [],
   "source": [
    "from sklearn.model_selection import cross_validate, StratifiedKFold"
   ]
  },
  {
   "cell_type": "code",
   "execution_count": 73,
   "metadata": {},
   "outputs": [
    {
     "data": {
      "text/plain": [
       "array([0.76861702, 0.74601064, 0.74335106, 0.76861702, 0.75265957])"
      ]
     },
     "execution_count": 73,
     "metadata": {},
     "output_type": "execute_result"
    }
   ],
   "source": [
    "skf = StratifiedKFold(n_splits = 5, shuffle = True, random_state = 0)\n",
    "cv_resultados = cross_validate(pipeline, X, y, cv = skf, scoring = 'recall_weighted')\n",
    "cv_resultados['test_score']"
   ]
  },
  {
   "cell_type": "code",
   "execution_count": 74,
   "metadata": {},
   "outputs": [
    {
     "name": "stdout",
     "output_type": "stream",
     "text": [
      "Intervalo de Confiança: [0.7341400727319589, 0.7775620549276154]\n"
     ]
    }
   ],
   "source": [
    "media = cv_resultados['test_score'].mean()\n",
    "desvio_padrao = cv_resultados['test_score'].std()\n",
    "print(f'Intervalo de Confiança: [{media - 2 * desvio_padrao}, {min(media + 2 * desvio_padrao, 1.0)}]')"
   ]
  },
  {
   "cell_type": "code",
   "execution_count": 75,
   "metadata": {},
   "outputs": [],
   "source": [
    " #Testando o modelo"
   ]
  },
  {
   "cell_type": "code",
   "execution_count": 77,
   "metadata": {},
   "outputs": [
    {
     "name": "stdout",
     "output_type": "stream",
     "text": [
      "              precision    recall  f1-score   support\n",
      "\n",
      "  Desistente       0.88      0.73      0.80       213\n",
      "    Graduado       0.82      0.85      0.83       332\n",
      " Matriculado       0.46      0.55      0.50       119\n",
      "\n",
      "    accuracy                           0.76       664\n",
      "   macro avg       0.72      0.71      0.71       664\n",
      "weighted avg       0.77      0.76      0.76       664\n",
      "\n"
     ]
    },
    {
     "data": {
      "image/png": "[encoded data removed]",
      "text/plain": [
       "<Figure size 640x480 with 2 Axes>"
      ]
     },
     "metadata": {},
     "output_type": "display_data"
    }
   ],
   "source": [
    "oversample = SMOTE(random_state = 0)\n",
    "X_balanceado, y_balanceado = oversample.fit_resample(X, y)\n",
    "modelo = RandomForestClassifier(random_state = 0, max_depth = 10)\n",
    "modelo.fit(X_balanceado, y_balanceado)\n",
    "y_pred = modelo.predict(X_teste)\n",
    "\n",
    "print(classification_report(y_teste, y_pred))\n",
    "ConfusionMatrixDisplay.from_predictions(y_teste, y_pred, normalize = 'true', cmap = 'Blues');"
   ]
  },
  {
   "cell_type": "code",
   "execution_count": null,
   "metadata": {},
   "outputs": [],
   "source": []
  }
 ],
 "metadata": {
  "kernelspec": {
   "display_name": "Python 3",
   "language": "python",
   "name": "python3"
  },
  "language_info": {
   "codemirror_mode": {
    "name": "ipython",
    "version": 3
   },
   "file_extension": ".py",
   "mimetype": "text/x-python",
   "name": "python",
   "nbconvert_exporter": "python",
   "pygments_lexer": "ipython3",
   "version": "3.12.1"
  }
 },
 "nbformat": 4,
 "nbformat_minor": 2
}
